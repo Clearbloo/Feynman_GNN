{
  "nbformat": 4,
  "nbformat_minor": 0,
  "metadata": {
    "colab": {
      "name": "dataset_builder.ipynb",
      "provenance": [],
      "authorship_tag": "ABX9TyO9tbn7sY1+SDn7bAyPpP6g",
      "include_colab_link": true
    },
    "kernelspec": {
      "name": "python3",
      "display_name": "Python 3"
    },
    "language_info": {
      "name": "python"
    }
  },
  "cells": [
    {
      "cell_type": "markdown",
      "metadata": {
        "id": "view-in-github",
        "colab_type": "text"
      },
      "source": [
        "<a href=\"https://colab.research.google.com/github/Clearbloo/Feynman_GNN/blob/main/dataset_builder.ipynb\" target=\"_parent\"><img src=\"https://colab.research.google.com/assets/colab-badge.svg\" alt=\"Open In Colab\"/></a>"
      ]
    },
    {
      "cell_type": "code",
      "execution_count": null,
      "metadata": {
        "id": "fsCicIyyft6Z"
      },
      "outputs": [],
      "source": [
        "## Standard libraries\n",
        "import os\n",
        "import os.path as osp\n",
        "import math\n",
        "import numpy as np \n",
        "import time\n",
        "import ast\n",
        "import pandas as pd\n",
        "from tqdm import tqdm\n",
        "from google.colab import drive\n",
        "drive.mount('/content/gdrive', force_remount=True)\n",
        "\n",
        "\n",
        "## Imports for plotting\n",
        "import matplotlib.pyplot as plt\n",
        "%matplotlib inline \n",
        "from IPython.display import set_matplotlib_formats\n",
        "set_matplotlib_formats('svg', 'pdf') # For export\n",
        "from matplotlib.colors import to_rgb\n",
        "import matplotlib\n",
        "matplotlib.rcParams['lines.linewidth'] = 2.0"
      ]
    },
    {
      "cell_type": "markdown",
      "source": [
        "# **Plan**\n",
        "\n",
        "\n",
        "---\n",
        "\n",
        "\n",
        "# Nodes:\n",
        "Node list.\n",
        "\n",
        "* 1 - Internal node\n",
        "* 2 - Initial state nodes\n",
        "* 3 - Final state nodes\n",
        "\n",
        "The intention is to add information about the time direction. Could investigate the effect of including this.\n",
        "\n",
        "e.g. \n",
        "\n",
        "```\n",
        "node_features = [2, 2, 1, 1, 3, 3]\n",
        "```\n",
        "\n",
        "\n",
        "\n",
        "---\n",
        "\n",
        "\n",
        "# Edge features/attributes:\n",
        "Each edge comes with a list of features.\n",
        "\n",
        "\\begin{equation}\n",
        "l = \\begin{bmatrix}\n",
        "m, & S, &LI^{W}_3, & LY, &RI^W_3, &RY,  &\\text{colour}, & h, & \\mathbf{p}\n",
        "\\end{bmatrix}\n",
        "\\end{equation}\n",
        "\n",
        "Where $m$ is the on-shell mass. Examples of particles.\n",
        "\n",
        "Lepton:\n",
        "\n",
        "\\begin{align}\n",
        "  e^-_\\uparrow &= \\begin{bmatrix}\n",
        "   m_e, & \\frac{1}{2}, & -\\frac{1}{2}, & -1,& 0,& -2, & False, & +1, & \\mathbf{p}\n",
        "  \\end{bmatrix} \\\\[1em]\n",
        "  e^-_\\downarrow &= \\begin{bmatrix}\n",
        "   m_e, & \\frac{1}{2}, & -\\frac{1}{2}, & -1,& 0,& -2, & False, & -1, & \\mathbf{p}\n",
        "  \\end{bmatrix}\\\\[1em]\n",
        "  e^+_\\uparrow &= \\begin{bmatrix}\n",
        "    m_e, & \\frac{1}{2}, & 0, &+2, &+\\frac{1}{2}, &+1, & False, & +1, & \\mathbf{p}\n",
        "  \\end{bmatrix} \\\\[1em]\n",
        "  e^+_\\downarrow &= \\begin{bmatrix}\n",
        "    m_e, & \\frac{1}{2}, & 0, &+2, &+\\frac{1}{2}, &+1, & False, & -1, & \\mathbf{p}\n",
        "  \\end{bmatrix}\n",
        "\\end{align}\n",
        "\n",
        "Photon:\n",
        "\n",
        "\\begin{align}\n",
        "  \\gamma = \\begin{bmatrix}\n",
        "    0, &1, &0, &0, &0, &0, &0, &h, &\\mathbf{p}\n",
        "  \\end{bmatrix}\n",
        "\\end{align}\n",
        "\n",
        "\n",
        "---\n",
        "\n",
        "\n",
        "\n",
        "# Edge Index (adjacency list):\n",
        "A list of doublets that describe which edges connect to which.\n",
        "\n",
        "e.g.\n",
        "```\n",
        "edge_index = [[1,2],[2,1],[1,3],[3,1]]\n",
        "```\n",
        "\n",
        "\n"
      ],
      "metadata": {
        "id": "z_1n_SHfIu0s"
      }
    },
    {
      "cell_type": "markdown",
      "source": [
        "---\n",
        "\n",
        "#**Define constants**\n",
        "\n",
        "Always using natural units"
      ],
      "metadata": {
        "id": "4Ca0qLjYxzAR"
      }
    },
    {
      "cell_type": "code",
      "source": [
        "m_e = 0.5110\n",
        "m_mu = 105.6583755\n",
        "alpha_QED = 1/137\n",
        "q_e = np.sqrt(4*np.pi*alpha_QED)\n",
        "num_edge_feat = 9"
      ],
      "metadata": {
        "id": "MnsMgCRUx4OX"
      },
      "execution_count": null,
      "outputs": []
    },
    {
      "cell_type": "markdown",
      "source": [
        "---\n",
        "# **Creating Graph Representation Classes**\n",
        "\n",
        "\n",
        "\n"
      ],
      "metadata": {
        "id": "mhbFSip-tuY4"
      }
    },
    {
      "cell_type": "code",
      "source": [
        "class adj_list:\n",
        "    \"\"\"\n",
        "    Class for an directed graph\n",
        "    \"\"\"\n",
        "    def __init__(self):\n",
        "        self.graphsrc = []\n",
        "        self.graphdest = []\n",
        " \n",
        "    def add_edge(self, src, dest):\n",
        "        self.graphsrc += [src]\n",
        "        self.graphdest += [dest]\n",
        "    \n",
        "    def undirected(self):\n",
        "      l = self.graphsrc\n",
        "      self.graphsrc = l + self.graphdest\n",
        "      self.graphdest = self.graphdest + l\n",
        " \n",
        "    # Original function to print the graph\n",
        "    def print_list(self):\n",
        "        graph_list = [[self.graphsrc],[self.graphdest]]\n",
        "        print(graph_list)\n",
        "\n",
        "    def get_list(self):\n",
        "      return [self.graphsrc,self.graphdest]\n",
        "\n",
        "\n",
        "class Particle:\n",
        "  \"\"\"\n",
        "  edge features vector\n",
        "  l=[m,S,LIW3,LY,RIW3,RY,colour,h,p]\n",
        "  masses in subsequent classes are given in MeV\n",
        "  \"\"\"\n",
        "  def __init__(self, m: float, S: float, LIW: float, LY: float, RIW: float, RY:float, colour: bool, h: int, p: list):\n",
        "    if len(p)>3:\n",
        "      print(\"error: momentum has too many components\")\n",
        "\n",
        "    if len(p)<3:\n",
        "      print(\"error: momentum has too few components\")\n",
        "      \n",
        "    self.feat = [m, S, LIW, LY, RIW, RY, colour, h]+p\n",
        "    \n",
        "  def get_feat(self):\n",
        "    return self.feat\n",
        "\n",
        "  def print_feat(self):\n",
        "    print(self.feat)"
      ],
      "metadata": {
        "id": "HjKA477zu6D3"
      },
      "execution_count": null,
      "outputs": []
    },
    {
      "cell_type": "code",
      "source": [
        "#tests\n",
        "graph = adj_list()\n",
        "graph.add_edge(1,2)\n",
        "graph.add_edge(3,1)\n",
        "graph.undirected()\n",
        "graph = graph.get_list()\n",
        "\n",
        "print(graph)\n"
      ],
      "metadata": {
        "colab": {
          "base_uri": "https://localhost:8080/"
        },
        "id": "IaoZ-CQ4wBij",
        "outputId": "a23e6efe-6b3d-4336-c1ae-cde7a0d16f43"
      },
      "execution_count": null,
      "outputs": [
        {
          "output_type": "stream",
          "name": "stdout",
          "text": [
            "[[1, 3, 2, 1], [2, 1, 1, 3]]\n"
          ]
        }
      ]
    },
    {
      "cell_type": "markdown",
      "source": [
        "#Lepton classes:"
      ],
      "metadata": {
        "id": "tbq1Ewh8v9yV"
      }
    },
    {
      "cell_type": "code",
      "source": [
        "class E_minus(Particle):\n",
        "  \"\"\"\n",
        "  Class to construct the edge feautres of an electron\n",
        "  l=[m,S,IW3,Y,colour,h,p]\n",
        "  \"\"\"\n",
        "  def __init__(self, h, p):\n",
        "    \"\"\"\n",
        "    h = helicity \n",
        "    p = 3-momentum vector\n",
        "    \"\"\"\n",
        "    Particle.__init__(self, m=m_e, S=0.5, LIW=-0.5, LY=-1, RIW=0, RY=-2, colour=False, h=h, p=p)\n",
        "\n",
        "class E_plus(Particle):\n",
        "  \"\"\"\n",
        "  Class to construct the edge feautres of a left HELICITY positron\n",
        "  \"\"\"\n",
        "  def __init__(self, h, p):\n",
        "    \"\"\"\n",
        "    h = helicity \n",
        "    p = 3-momentum vector\n",
        "    \"\"\"\n",
        "    Particle.__init__(self, m=m_e, S=0.5, LIW=0, LY=2, RIW=0.5, RY=1, colour=False, h=h, p=p)\n",
        "\n",
        "class Mu_minus(Particle):\n",
        "  \"\"\"\n",
        "  Class to construct the edge feautres of a left HELICITY muon\n",
        "  l=[m,S,IW3,Y,colour,h,p]\n",
        "  \"\"\"\n",
        "  def __init__(self, h, p):\n",
        "    \"\"\"\n",
        "    h = helicity \n",
        "    p = 3-momentum vector\n",
        "    \"\"\"\n",
        "    Particle.__init__(self, m=m_mu, S=0.5, LIW=-0.5, LY=-1, RIW=0, RY=-2, colour=False, h=h, p=p)\n",
        "\n",
        "class Mu_plus(Particle):\n",
        "  \"\"\"\n",
        "  Class to construct the edge feautres of a left HELICITY anti-muon\n",
        "  \"\"\"\n",
        "  def __init__(self, h, p):\n",
        "    \"\"\"\n",
        "    h = helicity \n",
        "    p = 3-momentum vector\n",
        "    \"\"\"\n",
        "    Particle.__init__(self, m=m_mu, S=0.5, LIW=-0.5, LY=-1, RIW=0, RY=-2, colour=False, h=h, p=p)"
      ],
      "metadata": {
        "id": "76tcLeHrv9fW"
      },
      "execution_count": null,
      "outputs": []
    },
    {
      "cell_type": "markdown",
      "source": [
        "#Boson classes:"
      ],
      "metadata": {
        "id": "zLAYpE8qwBXl"
      }
    },
    {
      "cell_type": "code",
      "source": [
        "class Photon(Particle):\n",
        "  \"\"\"\n",
        "  edge features of a photon\n",
        "  \"\"\"\n",
        "  def __init__(self, h, p):\n",
        "    Particle.__init__(self, m=0, S=1, LIW=0, LY=0, RIW=0, RY=0, colour=False, h=h, p=p)"
      ],
      "metadata": {
        "id": "m8iNTx0fwD_t"
      },
      "execution_count": null,
      "outputs": []
    },
    {
      "cell_type": "markdown",
      "source": [
        "# **Create Tree-level QED Dataset**\n",
        "\n",
        "We start with simple electron positron to muon antimuon QED tree level scattering. This removes the need for the t-channel diagram. And we only need to consider the s-channel diagram. \n",
        "\n",
        "Also only consider the matrix element $\\mathcal{M}({\\downarrow\\uparrow\\to\\downarrow\\uparrow})$. \n",
        "\n",
        "That is, left helicity electron meets right helicity positron to make a left helicity muon and right helicity antimuon.\n",
        "\n",
        "The structure is to create a list for each of the features.\n",
        "\n",
        "Then create a list of lists to represent the data for a singular graph\n",
        "\n",
        "Then create a stacked list of lists of lists to represent the full dataset which then gets passed to pandas.dataframe\n",
        "\n",
        "As a numpy array, this will be a 2D array (num_graphs, num_feature_type) with the objects as lists"
      ],
      "metadata": {
        "id": "UWSuPWmZIo0w"
      }
    },
    {
      "cell_type": "code",
      "source": [
        "#Setup: First make the dataframe a long list of arrays. 2 million data points\n",
        "ang_res = 200\n",
        "p_res = 10000\n",
        "momenta_range=np.linspace(0, 10**5, p_res) \n",
        "dataframe = np.empty(shape=(ang_res*p_res,4),dtype=object)\n",
        "\n",
        "\n",
        "#Node features\n",
        "Feyn_vertex = [2,2,1,1,3,3]\n",
        "\n",
        "\n",
        "#Adjacency lists\n",
        "s_chan = adj_list()\n",
        "s_chan.add_edge(0,2)\n",
        "s_chan.add_edge(1,2)\n",
        "s_chan.add_edge(2,3)\n",
        "s_chan.add_edge(3,4)\n",
        "s_chan.add_edge(3,5)\n",
        "\n",
        "s_chan.undirected()\n",
        "s_channel_edge_index = s_chan.get_list()\n",
        "\n",
        "#Index to count the graph number\n",
        "graph_count=0\n",
        "\n",
        "for p in momenta_range:\n",
        "  for theta in np.linspace(0,np.pi,ang_res):\n",
        "    #Edge features (assuming all left helicity now for simplicity)\n",
        "    incoming_electron = E_minus(1,[0,0,p]).get_feat()\n",
        "    incoming_positron = E_plus(1,[0,0,-p]).get_feat()\n",
        "    photon = Photon(1,[0,0,0]).get_feat()\n",
        "    outgoing_muon = Mu_minus(1,[p*np.sin(theta)*m_e/m_mu, 0, p*np.cos(theta)*m_e/m_mu]).get_feat()\n",
        "    outgoing_antimuon = Mu_plus(1,[-p*np.sin(theta)*m_e/m_mu, 0, -p*np.cos(theta)*m_e/m_mu]).get_feat()\n",
        "    edge_feat = [incoming_electron,\n",
        "                 incoming_positron,\n",
        "                 photon,\n",
        "                 outgoing_muon,\n",
        "                 outgoing_antimuon]\n",
        "\n",
        "    edge_feat += edge_feat\n",
        "\n",
        "    #Graph-level target\n",
        "    Mfi_squared = (q_e**2*m_mu/(2*m_e)*(1-np.cos(theta)))**2\n",
        "\n",
        "    #Create the dataframe as an numpy array first\n",
        "    dataframe[graph_count,0]=Feyn_vertex\n",
        "    dataframe[graph_count,1]=s_channel_edge_index\n",
        "    dataframe[graph_count,2]=edge_feat\n",
        "    dataframe[graph_count,3]=Mfi_squared\n",
        "\n",
        "    #increment the index\n",
        "    graph_count += 1\n",
        "\n",
        "dataframe = pd.DataFrame(dataframe, columns=['x','edge_index','edge_attr','y'], index=np.arange(0,dataframe.shape[0],1))\n",
        "\n",
        "\n",
        "\"\"\"\n",
        "#save the file\n",
        "filepath = '/content/gdrive/MyDrive/Part_III_Project/data/raw/'\n",
        "os.makedirs(filepath, exist_ok=True)  \n",
        "dataframe.to_csv(path_or_buf=\"/content/gdrive/MyDrive/Part_III_Project/data/raw/QED_data.csv\")\n",
        "\"\"\""
      ],
      "metadata": {
        "id": "00Tp2saN9Pxi",
        "colab": {
          "base_uri": "https://localhost:8080/",
          "height": 35
        },
        "outputId": "4a8072a5-fe12-432f-bc85-bc55d8753d3e"
      },
      "execution_count": null,
      "outputs": [
        {
          "output_type": "execute_result",
          "data": {
            "text/plain": [
              "'\\n#save the file\\nfilepath = \\'/content/gdrive/MyDrive/Part_III_Project/data/raw/\\'\\nos.makedirs(filepath, exist_ok=True)  \\ndataframe.to_csv(path_or_buf=\"/content/gdrive/MyDrive/Part_III_Project/data/raw/QED_data.csv\")\\n'"
            ],
            "application/vnd.google.colaboratory.intrinsic+json": {
              "type": "string"
            }
          },
          "metadata": {},
          "execution_count": 18
        }
      ]
    },
    {
      "cell_type": "code",
      "source": [
        "print(dataframe['y'].tolist())"
      ],
      "metadata": {
        "colab": {
          "base_uri": "https://localhost:8080/"
        },
        "id": "QlYNz-m-a5KW",
        "outputId": "6d2c1e09-2bdb-4d92-8c05-db7a809bc6e9"
      },
      "execution_count": null,
      "outputs": [
        {
          "output_type": "stream",
          "name": "stdout",
          "text": [
            "[0.0, 359.70349011389993, 0.0, 359.70349011389993, 0.0, 359.70349011389993, 0.0, 359.70349011389993, 0.0, 359.70349011389993, 0.0, 359.70349011389993, 0.0, 359.70349011389993, 0.0, 359.70349011389993, 0.0, 359.70349011389993, 0.0, 359.70349011389993]\n"
          ]
        }
      ]
    },
    {
      "cell_type": "markdown",
      "source": [
        "Now for electron positron to electron positron, which requires the additional t-channel diagram."
      ],
      "metadata": {
        "id": "c2om7SUdKa50"
      }
    },
    {
      "cell_type": "code",
      "source": [
        "t_chan = adj_list()\n",
        "t_chan.add_edge(1,3)\n",
        "t_chan.add_edge(2,4)\n",
        "t_chan.add_edge(3,4)\n",
        "t_chan.add_edge(3,5)\n",
        "t_chan.add_edge(4,6)\n",
        "\n"
      ],
      "metadata": {
        "id": "m8rWphSqKbM7"
      },
      "execution_count": null,
      "outputs": []
    }
  ]
}