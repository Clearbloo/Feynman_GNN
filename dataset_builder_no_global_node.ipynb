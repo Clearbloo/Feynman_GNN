{
  "cells": [
    {
      "cell_type": "markdown",
      "metadata": {
        "id": "view-in-github",
        "colab_type": "text"
      },
      "source": [
        "<a href=\"https://colab.research.google.com/github/Clearbloo/Feynman_GNN/blob/main/dataset_builder_no_global_node.ipynb\" target=\"_parent\"><img src=\"https://colab.research.google.com/assets/colab-badge.svg\" alt=\"Open In Colab\"/></a>"
      ]
    },
    {
      "cell_type": "code",
      "execution_count": 52,
      "metadata": {
        "colab": {
          "base_uri": "https://localhost:8080/"
        },
        "id": "fsCicIyyft6Z",
        "outputId": "ced6d4a5-773d-413c-f39c-fd007915cef4"
      },
      "outputs": [
        {
          "output_type": "stream",
          "name": "stdout",
          "text": [
            "Mounted at /content/gdrive\n"
          ]
        }
      ],
      "source": [
        "## Standard libraries\n",
        "import os\n",
        "import os.path as osp\n",
        "import math\n",
        "import numpy as np \n",
        "import time\n",
        "import ast\n",
        "import pandas as pd\n",
        "from tqdm import tqdm\n",
        "from google.colab import drive\n",
        "drive.mount('/content/gdrive', force_remount=True)\n",
        "\n",
        "\n",
        "## Imports for plotting\n",
        "import matplotlib.pyplot as plt\n",
        "%matplotlib inline \n",
        "from IPython.display import set_matplotlib_formats\n",
        "set_matplotlib_formats('svg', 'pdf') # For export\n",
        "from matplotlib.colors import to_rgb\n",
        "import matplotlib\n",
        "matplotlib.rcParams['lines.linewidth'] = 2.0"
      ]
    },
    {
      "cell_type": "markdown",
      "metadata": {
        "id": "z_1n_SHfIu0s"
      },
      "source": [
        "# **Plan**\n",
        "\n",
        "\n",
        "---\n",
        "\n",
        "\n",
        "# Nodes:\n",
        "Node list.\n",
        "\n",
        "* 1 - Internal node\n",
        "* 2 - Initial state nodes\n",
        "* 3 - Final state nodes\n",
        "\n",
        "The intention is to add information about the time direction. Could investigate the effect of including this.\n",
        "\n",
        "e.g. \n",
        "\n",
        "```\n",
        "node_features = [2, 2, 1, 1, 3, 3]\n",
        "```\n",
        "\n",
        "\n",
        "\n",
        "---\n",
        "\n",
        "\n",
        "# Edge features/attributes:\n",
        "Each edge comes with a list of features.\n",
        "\n",
        "\\begin{equation}\n",
        "l = \\begin{bmatrix}\n",
        "m, & S, &LI^{W}_3, & LY, &RI^W_3, &RY,  &\\text{red}, &\\text{blue}, &\\text{green},&\\text{anti-red},&\\text{anti-blue},&\\text{anti-green}, &h, & \\mathbf{p}\n",
        "\\end{bmatrix}\n",
        "\\end{equation}\n",
        "\n",
        "Where $m$ is the on-shell mass. Examples of particles.\n",
        "\n",
        "NEED TO CORRECT MY COLOUR EXAMPLES\n",
        "Lepton:\n",
        "\n",
        "\\begin{align}\n",
        "  e^-_\\uparrow &= \\begin{bmatrix}\n",
        "   m_e, & \\frac{1}{2}, & -\\frac{1}{2}, & -1,& 0,& -2, & 0, & +1, & \\mathbf{p}\n",
        "  \\end{bmatrix} \\\\[1em]\n",
        "  e^-_\\downarrow &= \\begin{bmatrix}\n",
        "   m_e, & \\frac{1}{2}, & -\\frac{1}{2}, & -1,& 0,& -2, & 0, & -1, & \\mathbf{p}\n",
        "  \\end{bmatrix}\\\\[1em]\n",
        "  e^+_\\uparrow &= \\begin{bmatrix}\n",
        "    m_e, & \\frac{1}{2}, & 0, &+2, &+\\frac{1}{2}, &+1, & 0, & +1, & \\mathbf{p}\n",
        "  \\end{bmatrix} \\\\[1em]\n",
        "  e^+_\\downarrow &= \\begin{bmatrix}\n",
        "    m_e, & \\frac{1}{2}, & 0, &+2, &+\\frac{1}{2}, &+1, & 0, & -1, & \\mathbf{p}\n",
        "  \\end{bmatrix}\n",
        "\\end{align}\n",
        "\n",
        "Photon:\n",
        "\n",
        "\\begin{align}\n",
        "  \\gamma = \\begin{bmatrix}\n",
        "    0, &1, &0, &0, &0, &0, &0, &h, &\\mathbf{p}\n",
        "  \\end{bmatrix}\n",
        "\\end{align}\n",
        "\n",
        "Colour is the number of colour charges the particle has, e.g. quarks have 1 and gluons have 2\n",
        "---\n",
        "\n",
        "\n",
        "\n",
        "# Edge Index (adjacency list):\n",
        "A list of doublets that describe which edges connect to which.\n",
        "\n",
        "e.g.\n",
        "```\n",
        "edge_index = [[1,2],[2,1],[1,3],[3,1]]\n",
        "```\n",
        "\n",
        "\n"
      ]
    },
    {
      "cell_type": "markdown",
      "metadata": {
        "id": "4Ca0qLjYxzAR"
      },
      "source": [
        "---\n",
        "\n",
        "#**Define constants**\n",
        "\n",
        "Always using natural units in MeV"
      ]
    },
    {
      "cell_type": "code",
      "execution_count": 53,
      "metadata": {
        "id": "MnsMgCRUx4OX"
      },
      "outputs": [],
      "source": [
        "#lepton masses\n",
        "m_e = 0.5110\n",
        "m_mu = 105.6583755\n",
        "m_tau = 1776\n",
        "\n",
        "#quark masses\n",
        "m_up=2.2\n",
        "m_down=4.7\n",
        "m_charm=1275\n",
        "m_strange=95\n",
        "m_top=172760\n",
        "m_bottom=4180\n",
        "\n",
        "#massive bosons\n",
        "m_W = 80379\n",
        "m_Z = 91187\n",
        "m_H = 125100\n",
        "\n",
        "\n",
        "alpha_QED = 1/137\n",
        "alpha_S = 1\n",
        "alpha_W = 1e-6\n",
        "q_e = np.sqrt(4*np.pi*alpha_QED)\n",
        "num_edge_feat = 9"
      ]
    },
    {
      "cell_type": "markdown",
      "metadata": {
        "id": "mhbFSip-tuY4"
      },
      "source": [
        "---\n",
        "# **Creating Graph Representation Classes**\n",
        "\n",
        "\n",
        "\n"
      ]
    },
    {
      "cell_type": "code",
      "execution_count": 103,
      "metadata": {
        "id": "HjKA477zu6D3"
      },
      "outputs": [],
      "source": [
        "class adj_list:\n",
        "    \"\"\"\n",
        "    Class for an directed graph\n",
        "    \"\"\"\n",
        "    def __init__(self, num_nodes):\n",
        "        self.graphsrc = []\n",
        "        self.graphdest = []\n",
        "        self.num_nodes = num_nodes\n",
        " \n",
        "    def add_edge(self, src, dest):\n",
        "        self.graphsrc += [src]\n",
        "        self.graphdest += [dest]\n",
        "    \n",
        "    def undirected(self):\n",
        "      l = self.graphsrc\n",
        "      self.graphsrc = l + self.graphdest\n",
        "      self.graphdest = self.graphdest + l\n",
        "\n",
        "    def connect_global_node(self):\n",
        "      for i in range(self.num_nodes):\n",
        "        self.add_edge(i+1,0)\n",
        "\n",
        "    def graph_size(self):\n",
        "      \"\"\"\n",
        "      returns the number of edges in the graph. Doubled if self.undirected() has been called\n",
        "      \"\"\"\n",
        "      return len(self.graphsrc)\n",
        "      \n",
        "    # Debug function to print the graph\n",
        "    def print_list(self):\n",
        "        graph_list = [[self.graphsrc],[self.graphdest]]\n",
        "        print(graph_list)\n",
        "\n",
        "    def get_list(self):\n",
        "      return [self.graphsrc,self.graphdest]\n",
        "\n",
        "\n",
        "class Particle:\n",
        "  \"\"\"\n",
        "  edge features vector\n",
        "  l=[m,S,LIW3,LY,RIW3,RY,colour,h]\n",
        "  masses in subsequent classes are given in MeV\n",
        "  \"\"\"\n",
        "  def __init__(self, m: float, S: float, LIW: float, LY: float, RIW: float, RY:float, colour: list = [0,0,0], anti_colour: list = [0,0,0], h: int=0):\n",
        "    self.LIW = LIW\n",
        "    self.LY=LY\n",
        "    self.RIW=RIW\n",
        "    self.RY=RY\n",
        "\n",
        "    self.feat = [m, S, LIW, LY, RIW, RY, colour[0], colour[1], colour[2], anti_colour[0], anti_colour[1], anti_colour[2], h]\n",
        "    \n",
        "  def get_feat(self):\n",
        "    return self.feat\n",
        "  \n",
        "  def anti_particle(self):\n",
        "    self.feat[2] = -self.RIW\n",
        "    self.feat[3] = -self.RY\n",
        "    self.feat[4] = -self.LIW\n",
        "    self.feat[5] = -self.LY\n",
        "\n",
        "  def print_feat(self):\n",
        "    print(self.feat)"
      ]
    },
    {
      "cell_type": "code",
      "execution_count": 83,
      "metadata": {
        "colab": {
          "base_uri": "https://localhost:8080/"
        },
        "id": "IaoZ-CQ4wBij",
        "outputId": "e84eef1d-33b2-48ba-802c-562f7c5506ea"
      },
      "outputs": [
        {
          "output_type": "stream",
          "name": "stdout",
          "text": [
            "[[1, 3, 2, 1], [2, 1, 1, 3]]\n"
          ]
        }
      ],
      "source": [
        "#tests\n",
        "graph = adj_list()\n",
        "graph.add_edge(1,2)\n",
        "graph.add_edge(3,1)\n",
        "graph.undirected()\n",
        "graph = graph.get_list()\n",
        "\n",
        "print(graph)\n"
      ]
    },
    {
      "cell_type": "markdown",
      "metadata": {
        "id": "tbq1Ewh8v9yV"
      },
      "source": [
        "#Lepton classes:\n",
        "(need to include tau and all neutrinos still)"
      ]
    },
    {
      "cell_type": "code",
      "execution_count": 84,
      "metadata": {
        "id": "76tcLeHrv9fW"
      },
      "outputs": [],
      "source": [
        "class E_minus(Particle):\n",
        "  \"\"\"\n",
        "  Class to construct the edge feautres of an electron\n",
        "  l=[m,S,IW3,Y,colour,h]\n",
        "  \"\"\"\n",
        "  def __init__(self, h):\n",
        "    \"\"\"\n",
        "    h = helicity \n",
        "    p = 3-momentum vector\n",
        "    \"\"\"\n",
        "    Particle.__init__(self, m=m_e, S=0.5, LIW=-0.5, LY=-1, RIW=0, RY=-2, h=h)\n",
        "\n",
        "class E_plus(Particle):\n",
        "  \"\"\"\n",
        "  Class to construct the edge feautres of a positron\n",
        "  \"\"\"\n",
        "  def __init__(self, h):\n",
        "    \"\"\"\n",
        "    h = helicity \n",
        "    p = 3-momentum vector\n",
        "    \"\"\"\n",
        "    Particle.__init__(self, m=m_e, S=0.5, LIW=0, LY=2, RIW=0.5, RY=1, h=h)\n",
        "\n",
        "class Mu_minus(Particle):\n",
        "  \"\"\"\n",
        "  Class to construct the edge feautres of a muon\n",
        "  l=[m,S,IW3,Y,colour,h,p]\n",
        "  \"\"\"\n",
        "  def __init__(self, h):\n",
        "    \"\"\"\n",
        "    h = helicity \n",
        "    p = 3-momentum vector\n",
        "    \"\"\"\n",
        "    Particle.__init__(self, m=m_mu, S=0.5, LIW=-0.5, LY=-1, RIW=0, RY=-2, h=h)\n",
        "\n",
        "class Mu_plus(Particle):\n",
        "  \"\"\"\n",
        "  Class to construct the edge feautres of an anti-muon\n",
        "  \"\"\"\n",
        "  def __init__(self, h):\n",
        "    \"\"\"\n",
        "    h = helicity \n",
        "    p = 3-momentum vector\n",
        "    \"\"\"\n",
        "    Particle.__init__(self, m=m_mu, S=0.5, LIW=-0.5, LY=-1, RIW=0, RY=-2, h=h)"
      ]
    },
    {
      "cell_type": "code",
      "source": [
        "test_particle = Mu_plus(1)\n",
        "test_particle.print_feat()"
      ],
      "metadata": {
        "colab": {
          "base_uri": "https://localhost:8080/"
        },
        "id": "F_iWsz45FDvc",
        "outputId": "1343d395-29c8-4235-d710-aa4b2366b3f5"
      },
      "execution_count": 85,
      "outputs": [
        {
          "output_type": "stream",
          "name": "stdout",
          "text": [
            "[105.6583755, 0.5, -0.5, -1, 0, -2, 0, 0, 0, 0, 0, 0, 1, 0.30286190409413793]\n"
          ]
        }
      ]
    },
    {
      "cell_type": "markdown",
      "source": [
        "#Quark classes:"
      ],
      "metadata": {
        "id": "iNKnRBJ9q9GY"
      }
    },
    {
      "cell_type": "code",
      "source": [
        "class Up_r(Particle):\n",
        "  \"\"\"\n",
        "  edge features of an up quark\n",
        "  \"\"\"\n",
        "  def __init__(self,h):\n",
        "    Particle.__init__(self,m=m_up,S=0.5,LIW=0.5,LY=1/3,RIW=0,RY=4/3,colour=[1,0,0],h=h)\n",
        "\n",
        "class Down_r(Particle):\n",
        "  \"\"\"\n",
        "  edge features of a down quark\n",
        "  \"\"\"\n",
        "  def __init__(self,h):\n",
        "    Particle.__init__(self,m=m_down,S=0.5,LIW=-0.5,LY=1/3,RIW=0,RY=-2/3,colour=[1,0,0],h=h)\n",
        "\n",
        "class Charm_r(Particle):\n",
        "  \"\"\"\n",
        "  edge features of a charm quark\n",
        "  \"\"\"\n",
        "  def __init__(self,h):\n",
        "    Particle.__init__(self,m=m_charm,S=0.5,LIW=0.5,LY=1/3,RIW=0,RY=4/3,colour=[1,0,0],h=h)\n",
        "\n",
        "class Strange_r(Particle):\n",
        "  \"\"\"\n",
        "  edge features of a strange quark\n",
        "  \"\"\"\n",
        "  def __init__(self,h):\n",
        "    Particle.__init__(self,m=m_strange,S=0.5,LIW=-0.5,LY=1/3,RIW=0,RY=-2/3,colour=[1,0,0],h=h)\n",
        "\n",
        "class Top_r(Particle):\n",
        "  \"\"\"\n",
        "  edge features of a top quark\n",
        "  \"\"\"\n",
        "  def __init__(self,h):\n",
        "    Particle.__init__(self,m=m_top,S=0.5,LIW=0.5,LY=1/3,RIW=0,RY=4/3,colour=[1,0,0],h=h)\n",
        "    \n",
        "class Bottom_r(Particle):\n",
        "  \"\"\"\n",
        "  edge features of a bottom quark\n",
        "  \"\"\"\n",
        "  def __init__(self,h):\n",
        "    Particle.__init__(self,m=m_bottom,S=0.5,LIW=-0.5,LY=1/3,RIW=0,RY=-2/3,colour=[1,0,0],h=h)"
      ],
      "metadata": {
        "id": "qGg2BiZprAJo"
      },
      "execution_count": 86,
      "outputs": []
    },
    {
      "cell_type": "markdown",
      "metadata": {
        "id": "zLAYpE8qwBXl"
      },
      "source": [
        "#Boson classes:"
      ]
    },
    {
      "cell_type": "code",
      "execution_count": 87,
      "metadata": {
        "id": "m8iNTx0fwD_t"
      },
      "outputs": [],
      "source": [
        "class Photon(Particle):\n",
        "  \"\"\"\n",
        "  edge features of a photon\n",
        "  \"\"\"\n",
        "  def __init__(self, h):\n",
        "    Particle.__init__(self, m=0, S=1, LIW=0, LY=0, RIW=0, RY=0, h=h)\n",
        "\n",
        "class Gluon_rbbar(Particle):\n",
        "  \"\"\"\n",
        "  edge features of a gluon\n",
        "  \"\"\"\n",
        "  def __init__(self,h):\n",
        "    Particle.__init__(self,m=0,S=1,LIW=0,LY=0,RIW=0,RY=0,colour=[1,0,0],anti_colour=[0,1,0],h=h)\n",
        "\n",
        "class W_plus(Particle):\n",
        "  \"\"\"\n",
        "  edge features of W plus boson\n",
        "  \"\"\"\n",
        "  def __init__(self,h):\n",
        "    Particle.__init__(self,m=m_W,S=1,LIW=1,LY=0,RIW=0,RY=0,h=h)\n",
        "\n",
        "class W_minus(Particle):\n",
        "  \"\"\"\n",
        "  edge features of W minus boson\n",
        "  \"\"\"\n",
        "  def __init__(self,h):\n",
        "    Particle.__init__(self,m=m_W,S=1,LIW=-1,LY=0,RIW=0,RY=0,h=h)\n",
        "\n",
        "class Z_0(Particle):\n",
        "  \"\"\"\n",
        "  edge features of Z boson\n",
        "  \"\"\"\n",
        "  def __init__(self,h):\n",
        "    Particle.__init__(self,m=m_Z,S=1,LIW=0,LY=0,RIW=0,RY=0,h=h)\n",
        "    \n",
        "class Higgs(Particle):\n",
        "  \"\"\"\n",
        "  edge features of W plus boson\n",
        "  \"\"\"\n",
        "  def __init__(self,h):\n",
        "    Particle.__init__(self,m=m_H,S=0,LIW=-0.5,LY=1,RIW=0,RY=0,h=h)"
      ]
    },
    {
      "cell_type": "markdown",
      "source": [
        "#**Diagram structures**"
      ],
      "metadata": {
        "id": "gTGhAwmMA__Q"
      }
    },
    {
      "cell_type": "markdown",
      "source": [
        "#s-channel"
      ],
      "metadata": {
        "id": "GdN39-cWBEa-"
      }
    },
    {
      "cell_type": "code",
      "source": [
        "def s_channel():\n",
        "  initial = [1,0,0]\n",
        "  virtual = [0,1,0]\n",
        "  final = [0,0,1]\n",
        "\n",
        "  #Node features\n",
        "  node_features = [initial, initial, virtual, virtual, final, final]\n",
        "\n",
        "  #Global node (I happen to be lucky in that these are the same size, 3)\n",
        "  global_node = [alpha_QED,alpha_W,alpha_S]\n",
        "\n",
        "  #Adjacency lists\n",
        "  s_chan = adj_list()\n",
        "  s_chan.add_edge(0,2)\n",
        "  s_chan.add_edge(1,2)\n",
        "  s_chan.add_edge(2,3)\n",
        "  s_chan.add_edge(3,4)\n",
        "  s_chan.add_edge(3,5)\n",
        "\n",
        "  edge_index = s_chan\n",
        "\n",
        "  return node_features, edge_index"
      ],
      "metadata": {
        "id": "_GFKMeq5BQlG"
      },
      "execution_count": 88,
      "outputs": []
    },
    {
      "cell_type": "markdown",
      "source": [
        "#t-channel"
      ],
      "metadata": {
        "id": "h0sC2E2wBGXt"
      }
    },
    {
      "cell_type": "code",
      "source": [
        "def t_channel():\n",
        "  initial = [1,0,0]\n",
        "  virtual = [0,1,0]\n",
        "  final = [0,0,1]\n",
        "\n",
        "  #Node features\n",
        "  node_features = [initial, initial, virtual, virtual, final, final]\n",
        "\n",
        "  #Global node\n",
        "  global_node = [alpha_QED,alpha_W,alpha_S]\n",
        "\n",
        "  #Adjacency lists\n",
        "  t_chan = adj_list()\n",
        "  t_chan.add_edge(0,2)\n",
        "  t_chan.add_edge(1,3)\n",
        "  t_chan.add_edge(2,3)\n",
        "  t_chan.add_edge(2,4)\n",
        "  t_chan.add_edge(3,5)\n",
        "\n",
        "  edge_index = t_chan\n",
        "\n",
        "  return node_features, edge_index"
      ],
      "metadata": {
        "id": "eKArULpjM-z2"
      },
      "execution_count": 89,
      "outputs": []
    },
    {
      "cell_type": "markdown",
      "source": [
        "#u-channel"
      ],
      "metadata": {
        "id": "lH2cwY52NvS-"
      }
    },
    {
      "cell_type": "code",
      "source": [
        "def u_channel():\n",
        "  initial = [1,0,0]\n",
        "  virtual = [0,1,0]\n",
        "  final = [0,0,1]\n",
        "\n",
        "  #Node features\n",
        "  node_features = [initial, initial, virtual, virtual, final, final]\n",
        "  \n",
        "  #Global node\n",
        "  global_node = [alpha_QED,alpha_W,alpha_S]\n",
        "\n",
        "  #Adjacency lists\n",
        "  u_chan = adj_list()\n",
        "  u_chan.add_edge(0,2)\n",
        "  u_chan.add_edge(1,3)\n",
        "  u_chan.add_edge(2,3)\n",
        "  u_chan.add_edge(2,5)\n",
        "  u_chan.add_edge(3,4)\n",
        "\n",
        "  edge_index = u_chan\n",
        "\n",
        "  return node_features, edge_index"
      ],
      "metadata": {
        "id": "-ziuodPVNxml"
      },
      "execution_count": 90,
      "outputs": []
    },
    {
      "cell_type": "markdown",
      "source": [
        "#**Feynman Diagram builder**\n",
        "\n",
        "A function to create a list of all possible diagrams\n",
        "\n",
        "1.   Takes in initial and final particle states\n",
        "2.   Iterates over diagram structures (s,t,u for tree level)\n",
        "3.   Iterates over vertices\n",
        "4.   Removes diagrams that don't follow conservation rules\n",
        "\n",
        "\n",
        "\n"
      ],
      "metadata": {
        "id": "Dm0H7H9ix2t-"
      }
    },
    {
      "cell_type": "markdown",
      "metadata": {
        "id": "UWSuPWmZIo0w"
      },
      "source": [
        "# **Create Tree-level QED Dataset**\n",
        "\n",
        "We start with simple electron positron to muon antimuon QED tree level scattering. This removes the need for the t-channel diagram. And we only need to consider the s-channel diagram.\n",
        "\n",
        "The structure is to create a list for each of the features.\n",
        "\n",
        "Then create a list of lists to represent the data for a singular graph\n",
        "\n",
        "Then create a stacked list of lists of lists to represent the full dataset which then gets passed to pandas.dataframe\n",
        "\n",
        "As a numpy array, this will be a 2D array (num_graphs, num_feature_type) with the objects as lists.\n",
        "\n",
        "I first give the 4 non-zero matrix elements and then include two that are zero."
      ]
    },
    {
      "cell_type": "code",
      "source": [
        "channels={\n",
        "    's':s_channel(),\n",
        "    't':t_channel(),\n",
        "    'u':u_channel()\n",
        "}"
      ],
      "metadata": {
        "id": "aWQVLSGJrYGM"
      },
      "execution_count": 91,
      "outputs": []
    },
    {
      "cell_type": "code",
      "source": [
        "def vertex_check(vertex, edge_feat, edge_index):\n",
        "  \"\"\"\n",
        "  Function that returns a true or false based on whether quantities are conserved at the specified vertex\n",
        "  \"\"\"\n",
        "  #incoming indices since edge_index[1] are the destinations\n",
        "  inc_indices = [k for k,x in enumerate(edge_index[1]) if x==vertex]\n",
        "  inc_edges=[0]*len(edge_feat[0])\n",
        "  for n in inc_indices:\n",
        "    inc_edges = [sum(value) for value in zip(edge_feat[n], inc_edges)]\n",
        "\n",
        "  #outgoing indices since edge_index[0] are the sources\n",
        "  out_indices = [k for k,x in enumerate(edge_index[0]) if x==vertex]\n",
        "  out_edges=[0]*len(edge_feat[0])\n",
        "  for n in out_indices:\n",
        "    out_edges = [sum(value) for value in zip(edge_feat[n], out_edges)]\n",
        "  \n",
        "  current = [sum(value) for value in zip(inc_edges, [-x for x in out_edges])]\n",
        "  conservation=[current[2]+0.5*current[3], #Left charge, weak isospin - 1/2 left hypercharge\n",
        "                current[4]+0.5*current[5], #\"\" for the right chiral\n",
        "                current[6]-current[9], # red colour charge conservation (red - anti-red)\n",
        "                current[7]-current[10], #blue colour charge conservation (blue - anti-blue)\n",
        "                current[8]-current[11], #green \"\"\n",
        "                current[12] #helicity\n",
        "  ]\n",
        "  return all(float(charge)==0.0 for charge in conservation)"
      ],
      "metadata": {
        "id": "sZsWGoth43n6"
      },
      "execution_count": 92,
      "outputs": []
    },
    {
      "cell_type": "code",
      "source": [
        "def diagram_builder(initial_0, initial_1, final_4, final_5):\n",
        "  \"\"\"\n",
        "  Function to make return all possbile diagrams with initial and final states given\n",
        "  Returns a list allowed graphs, which consist of Feyn_vertex, edge_index and edge_feat\n",
        "  Changes: should allow feynman diagrams with False to be returned but force them to have matrix element 0\n",
        "  \"\"\"\n",
        "  Feyn_vertex, adj_class = s_channel()\n",
        "  graph_size = adj_class.graph_size()\n",
        "  edge_index = adj_class.get_list()\n",
        "  #check to see if process is kinematically allowed by conserving energy, helicity and momentum\n",
        "\n",
        "  #Given edge features\n",
        "  incoming_0 = initial_0.get_feat()\n",
        "  incoming_1 = initial_1.get_feat()\n",
        "  outgoing_4 = final_4.get_feat()\n",
        "  outgoing_5 = final_5.get_feat()\n",
        "\n",
        "  #make empty edge feature list for directed graph\n",
        "  edge_feat = [0]*graph_size\n",
        "\n",
        "  #assign initial and final edge feats. NEED TO CHANGE THIS TO SEARCH FOR INIT AND FINAL NODES AS THE INDICES\n",
        "  edge_feat[0] = incoming_0\n",
        "  edge_feat[1] = incoming_1\n",
        "  edge_feat[-2] = outgoing_4\n",
        "  edge_feat[-1] = outgoing_5\n",
        "\n",
        "  \n",
        "  #create a list of allowed edges to insert between virtual nodes\n",
        "  graphs = []\n",
        "  propagators = []\n",
        "  edge_position = []\n",
        "  for i in range(len(edge_index[0])): #len(edge_index[0] is the number of edges)\n",
        "    #look for virtual nodes connected to virtual nodes\n",
        "    if Feyn_vertex[edge_index[0][i]] == [0,1,0] and Feyn_vertex[edge_index[1][i]] == [0,1,0]: #1-hot encoding for virtual nodes \n",
        "      #cycle through list of bosons (just photons for now)\n",
        "      for j in [-1,0,1]:\n",
        "        edge_feat[i]=Photon(j).get_feat()\n",
        "        if vertex_check(edge_index[0][i],edge_feat,edge_index):\n",
        "          propagators.append(edge_feat[i])\n",
        "          edge_position.append(i)\n",
        "          edge_feat[i]=propagators[0] #should add to edge features later in a way that makes a list of all possible. Currently just adds the final correct one\n",
        "\n",
        "  #make the graph undirected\n",
        "  adj_class.undirected()\n",
        "  edge_index = adj_class.get_list()\n",
        "  edge_feat += edge_feat\n",
        "  graphs.append([Feyn_vertex,edge_index,edge_feat])\n",
        "\n",
        "  return graphs[0]\n"
      ],
      "metadata": {
        "id": "CG7CRuybqLsy"
      },
      "execution_count": 93,
      "outputs": []
    },
    {
      "cell_type": "code",
      "source": [
        "def dataframe_builder(ang_res,p_res,p_min,p_max,Mfi_squared,graph):\n",
        "  #Setup: First make the dataframe a long list of arrays. 20,000 data points\n",
        "  momenta_range=np.linspace(p_min, p_max, p_res) \n",
        "  dataframe = np.empty(shape=(ang_res*p_res,5),dtype=object)\n",
        "\n",
        "  #Index to count the graph number\n",
        "  graph_count=0\n",
        "\n",
        "  for p in momenta_range:\n",
        "    for theta in np.linspace(0,np.pi,ang_res):\n",
        "\n",
        "      #Graph-level target\n",
        "      target = Mfi_squared(p,theta)\n",
        "\n",
        "      #Create list of initial and final particle momenta in the zmf with format [initial,final,angle between]\n",
        "      momenta = [p, theta]\n",
        "\n",
        "      #Create the dataframe as an numpy array first\n",
        "      dataframe[graph_count,0]=graph[0]\n",
        "      dataframe[graph_count,1]=graph[1]\n",
        "      dataframe[graph_count,2]=graph[2]\n",
        "      dataframe[graph_count,3]=target\n",
        "      dataframe[graph_count,4]=momenta\n",
        "\n",
        "      #increment the index\n",
        "      graph_count += 1\n",
        "\n",
        "  dataframe = pd.DataFrame(dataframe, columns=['x','edge_index','edge_attr','y','p'], index=np.arange(0,dataframe.shape[0],1))\n",
        "  return dataframe"
      ],
      "metadata": {
        "id": "0HUgXF2ZaoBt"
      },
      "execution_count": 94,
      "outputs": []
    },
    {
      "cell_type": "markdown",
      "source": [
        "#$\\mathcal{M}(\\uparrow\\downarrow\\to\\uparrow\\downarrow)$"
      ],
      "metadata": {
        "id": "XxfiS5-cKDzD"
      }
    },
    {
      "cell_type": "markdown",
      "source": [
        "#$\\mathcal{M}(\\uparrow\\downarrow\\to\\downarrow\\uparrow)$"
      ],
      "metadata": {
        "id": "0AkxbHB6Kbqq"
      }
    },
    {
      "cell_type": "markdown",
      "source": [
        "#$\\mathcal{M}(\\downarrow\\uparrow\\to\\uparrow\\downarrow)$"
      ],
      "metadata": {
        "id": "AD0h4_pEKliz"
      }
    },
    {
      "cell_type": "markdown",
      "source": [
        "#$\\mathcal{M}(\\downarrow\\uparrow\\to\\downarrow\\uparrow)$"
      ],
      "metadata": {
        "id": "pIxYFHNAKlhC"
      }
    },
    {
      "cell_type": "markdown",
      "source": [
        "#$\\mathcal{M}(\\uparrow\\uparrow\\to\\uparrow\\uparrow)$"
      ],
      "metadata": {
        "id": "jZoN0jRlInGr"
      }
    },
    {
      "cell_type": "markdown",
      "source": [
        "#$\\mathcal{M}(\\downarrow\\downarrow\\to\\downarrow\\downarrow)$"
      ],
      "metadata": {
        "id": "b7dM5KKiJJ_C"
      }
    },
    {
      "cell_type": "code",
      "source": [
        "#write the matrix element as a function\n",
        "def Mfi_squared_plus(p,theta):\n",
        "  return (q_e**2*(1+np.cos(theta)))**2\n",
        "\n",
        "def Mfi_squared_minus(p,theta):\n",
        "  return (q_e**2*(1+np.cos(theta)))**2\n",
        "\n",
        "def Mfi_squared_0(p,theta):\n",
        "  return 0\n",
        "\n",
        "graph = diagram_builder(E_minus(1),E_plus(-1),Mu_minus(1),Mu_plus(-1))\n",
        "df_e_annih = dataframe_builder(ang_res=200,p_res=100,p_min=10**3,p_max=10**5,Mfi_squared=Mfi_squared_plus,graph=graph)\n",
        "\n",
        "graph = diagram_builder(E_minus(1),E_plus(-1),Mu_minus(-1),Mu_plus(1))\n",
        "df = dataframe_builder(ang_res=200,p_res=100,p_min=10**3,p_max=10**5,Mfi_squared=Mfi_squared_minus,graph=graph)\n",
        "df_e_annih = pd.concat([df_e_annih,df],ignore_index=True)\n",
        "\n",
        "graph = diagram_builder(E_minus(-1),E_plus(1),Mu_minus(1),Mu_plus(-1))\n",
        "df = dataframe_builder(ang_res=200,p_res=100,p_min=10**3,p_max=10**5,Mfi_squared=Mfi_squared_minus,graph=graph)\n",
        "df_e_annih = pd.concat([df_e_annih,df],ignore_index=True)\n",
        "\n",
        "graph = diagram_builder(E_minus(-1),E_plus(1),Mu_minus(-1),Mu_plus(1))\n",
        "df = dataframe_builder(ang_res=200,p_res=100,p_min=10**3,p_max=10**5,Mfi_squared=Mfi_squared_plus,graph=graph)\n",
        "df_e_annih = pd.concat([df_e_annih,df],ignore_index=True)\n",
        "\n",
        "graph = diagram_builder(E_minus(1),E_plus(1),Mu_minus(1),Mu_plus(1))\n",
        "df = dataframe_builder(ang_res=200,p_res=100,p_min=10**3,p_max=10**5,Mfi_squared=Mfi_squared_0,graph=graph)\n",
        "df_e_annih = pd.concat([df_e_annih,df],ignore_index=True)\n",
        "\n",
        "graph = diagram_builder(E_minus(-1),E_plus(-1),Mu_minus(-1),Mu_plus(-1))\n",
        "df = dataframe_builder(ang_res=200,p_res=100,p_min=10**3,p_max=10**5,Mfi_squared=Mfi_squared_0,graph=graph)\n",
        "df_e_annih = pd.concat([df_e_annih,df],ignore_index=True)"
      ],
      "metadata": {
        "id": "5It01hC-OSpZ"
      },
      "execution_count": 95,
      "outputs": []
    },
    {
      "cell_type": "code",
      "execution_count": 22,
      "metadata": {
        "id": "QkieLOomjD5T"
      },
      "outputs": [],
      "source": [
        "#save the file\n",
        "df_e_annih_mu = df_e_annih\n",
        "filepath = '/content/gdrive/MyDrive/Part_III_Project/data/raw/'\n",
        "os.makedirs(filepath, exist_ok=True)  \n",
        "df_e_annih_mu.to_csv(path_or_buf=\"/content/gdrive/MyDrive/Part_III_Project/data/raw/QED_data_e_annih_mu.csv\")"
      ]
    },
    {
      "cell_type": "code",
      "source": [
        "df_e_annih['edge_attr'][0]"
      ],
      "metadata": {
        "colab": {
          "base_uri": "https://localhost:8080/"
        },
        "id": "uThnEhsiat85",
        "outputId": "31abb35d-7940-4ac2-b570-af03aa008327"
      },
      "execution_count": 102,
      "outputs": [
        {
          "output_type": "execute_result",
          "data": {
            "text/plain": [
              "[[0.511, 0.5, -0.5, -1, 0, -2, 0, 0, 0, 0, 0, 0, 1, 0.30286190409413793],\n",
              " [0.511, 0.5, 0, 2, 0.5, 1, 0, 0, 0, 0, 0, 0, -1, 0.30286190409413793],\n",
              " [0, 1, 0, 0, 0, 0, 0, 0, 0, 0, 0, 0, 1, 0.30286190409413793],\n",
              " [105.6583755, 0.5, -0.5, -1, 0, -2, 0, 0, 0, 0, 0, 0, 1, 0.30286190409413793],\n",
              " [105.6583755,\n",
              "  0.5,\n",
              "  -0.5,\n",
              "  -1,\n",
              "  0,\n",
              "  -2,\n",
              "  0,\n",
              "  0,\n",
              "  0,\n",
              "  0,\n",
              "  0,\n",
              "  0,\n",
              "  -1,\n",
              "  0.30286190409413793],\n",
              " [0.511, 0.5, -0.5, -1, 0, -2, 0, 0, 0, 0, 0, 0, 1, 0.30286190409413793],\n",
              " [0.511, 0.5, 0, 2, 0.5, 1, 0, 0, 0, 0, 0, 0, -1, 0.30286190409413793],\n",
              " [0, 1, 0, 0, 0, 0, 0, 0, 0, 0, 0, 0, 1, 0.30286190409413793],\n",
              " [105.6583755, 0.5, -0.5, -1, 0, -2, 0, 0, 0, 0, 0, 0, 1, 0.30286190409413793],\n",
              " [105.6583755,\n",
              "  0.5,\n",
              "  -0.5,\n",
              "  -1,\n",
              "  0,\n",
              "  -2,\n",
              "  0,\n",
              "  0,\n",
              "  0,\n",
              "  0,\n",
              "  0,\n",
              "  0,\n",
              "  -1,\n",
              "  0.30286190409413793]]"
            ]
          },
          "metadata": {},
          "execution_count": 102
        }
      ]
    },
    {
      "cell_type": "markdown",
      "source": [
        "#**Extending the dataset**\n",
        "Repeating for \n",
        "$$e^-e^+\\to e^-e^+$$\n",
        "\n",
        "This requires the inclusion of the t-channel diagrams"
      ],
      "metadata": {
        "id": "n-tD7CgXQoFQ"
      }
    },
    {
      "cell_type": "markdown",
      "source": [
        "#$\\mathcal{M}(\\uparrow\\downarrow\\to\\uparrow\\downarrow)$"
      ],
      "metadata": {
        "id": "9kODLZO3ZZgf"
      }
    },
    {
      "cell_type": "code",
      "source": [
        "#Setup: First make the dataframe a long list of arrays. 20,000 data points\n",
        "ang_res = 200\n",
        "p_res = 100\n",
        "momenta_range=np.linspace(10**3, 10**5, p_res) \n",
        "dataframe = np.empty(shape=(ang_res*p_res,5),dtype=object)\n",
        "\n",
        "Feyn_vertex, edge_index = t_channel()\n",
        "\n",
        "#Edge features\n",
        "incoming_electron = E_minus(1).get_feat()\n",
        "incoming_positron = E_plus(-1).get_feat()\n",
        "photon = Photon(0).get_feat()\n",
        "outgoing_muon = E_minus(1).get_feat()\n",
        "outgoing_antimuon = E_plus(-1).get_feat()\n",
        "edge_feat = [incoming_electron,\n",
        "             incoming_positron,\n",
        "             photon,\n",
        "             outgoing_muon,\n",
        "             outgoing_antimuon]\n",
        "edge_feat += edge_feat\n",
        "\n",
        "#Index to count the graph number\n",
        "graph_count=0\n",
        "\n",
        "for p in momenta_range:\n",
        "  for theta in np.linspace(0,np.pi,ang_res):\n",
        "\n",
        "    #Graph-level target\n",
        "    Mfi_squared = (q_e**2*(1+np.cos(theta)))**2\n",
        "\n",
        "    #Create list of initial and final particle momenta in the zmf with format [initial,final,angle between]\n",
        "\n",
        "    #Create list of zmf energy and angle of deflection\n",
        "    momenta = [4*m_e**2+4*p**2, theta]\n",
        "\n",
        "    #Create the dataframe as an numpy array first\n",
        "    dataframe[graph_count,0]=Feyn_vertex\n",
        "    dataframe[graph_count,1]=edge_index\n",
        "    dataframe[graph_count,2]=edge_feat\n",
        "    dataframe[graph_count,3]=Mfi_squared\n",
        "    dataframe[graph_count,4]=momenta\n",
        "\n",
        "    #increment the index\n",
        "    graph_count += 1\n",
        "\n",
        "df_e_annih = pd.DataFrame(dataframe, columns=['x','edge_index','edge_attr','y','p'], index=np.arange(0,dataframe.shape[0],1))"
      ],
      "metadata": {
        "id": "9PFOMR2hZZgn"
      },
      "execution_count": null,
      "outputs": []
    },
    {
      "cell_type": "markdown",
      "source": [
        "#$\\mathcal{M}(\\downarrow\\uparrow\\to\\downarrow\\uparrow)$"
      ],
      "metadata": {
        "id": "WnVNnjkIZZgq"
      }
    },
    {
      "cell_type": "code",
      "source": [
        "#Setup: First make the dataframe a long list of arrays. 200,000 data points\n",
        "ang_res = 2000\n",
        "p_res = 100\n",
        "momenta_range=np.linspace(10**3, 10**5, p_res) \n",
        "dataframe = np.empty(shape=(ang_res*p_res,5),dtype=object)\n",
        "\n",
        "Feyn_vertex, edge_index = t_channel()\n",
        "\n",
        "#Edge features\n",
        "incoming_electron = E_minus(-1).get_feat()\n",
        "incoming_positron = E_plus(1).get_feat()\n",
        "photon = Photon(0).get_feat()\n",
        "outgoing_muon = E_minus(-1).get_feat()\n",
        "outgoing_antimuon = E_plus(1).get_feat()\n",
        "edge_feat = [incoming_electron,\n",
        "             incoming_positron,\n",
        "             photon,\n",
        "             outgoing_muon,\n",
        "             outgoing_antimuon]\n",
        "edge_feat += edge_feat\n",
        "\n",
        "#Index to count the graph number\n",
        "graph_count=0\n",
        "\n",
        "for p in momenta_range:\n",
        "  for theta in np.linspace(0,np.pi,ang_res):\n",
        "\n",
        "    #Graph-level target\n",
        "    Mfi_squared = (q_e**2*(1+np.cos(theta)))**2\n",
        "\n",
        "    #Create list of initial and final particle momenta with format [px,py,pz]\n",
        "    #momenta = [[0,0,p],[0,0,-p],[p*np.sin(theta)*m_e/m_mu,0,p*np.cos(theta)*m_e/m_mu],[-p*np.sin(theta)*m_e/m_mu,0,-p*np.cos(theta)*m_e/m_mu]]\n",
        "\n",
        "    #Create list of initial and final particle momenta in the zmf with format [initial,final,angle between]\n",
        "    momenta = [4*m_e**2+4*p**2, theta]\n",
        "\n",
        "    #Create the dataframe as an numpy array first\n",
        "    dataframe[graph_count,0]=Feyn_vertex\n",
        "    dataframe[graph_count,1]=edge_index\n",
        "    dataframe[graph_count,2]=edge_feat\n",
        "    dataframe[graph_count,3]=Mfi_squared\n",
        "    dataframe[graph_count,4]=momenta\n",
        "\n",
        "    #increment the index\n",
        "    graph_count += 1\n",
        "\n",
        "dataframe = pd.DataFrame(dataframe, columns=['x','edge_index','edge_attr','y','p'], index=np.arange(0,dataframe.shape[0],1))\n",
        "df_e_annih = pd.concat([df_e_annih,dataframe],ignore_index=True)"
      ],
      "metadata": {
        "id": "lZnwjtwOZZgq"
      },
      "execution_count": null,
      "outputs": []
    },
    {
      "cell_type": "markdown",
      "source": [
        "#$\\mathcal{M}(\\uparrow\\uparrow\\to\\uparrow\\uparrow)$"
      ],
      "metadata": {
        "id": "yiWWVcbfZZgq"
      }
    },
    {
      "cell_type": "code",
      "execution_count": null,
      "metadata": {
        "id": "T8VwBp1KZZgq"
      },
      "outputs": [],
      "source": [
        "#Setup: First make the dataframe a long list of arrays. 20,000 data points\n",
        "ang_res = 2000\n",
        "p_res = 10\n",
        "momenta_range=np.linspace(10**3, 10**5, p_res) \n",
        "dataframe = np.empty(shape=(ang_res*p_res,5),dtype=object)\n",
        "\n",
        "Feyn_vertex, edge_index = t_channel()\n",
        "\n",
        "#Edge features\n",
        "incoming_electron = E_minus(1).get_feat()\n",
        "incoming_positron = E_plus(1).get_feat()\n",
        "photon = Photon(1).get_feat()\n",
        "outgoing_muon = E_minus(1).get_feat()\n",
        "outgoing_antimuon = E_plus(1).get_feat()\n",
        "edge_feat = [incoming_electron,\n",
        "             incoming_positron,\n",
        "             photon,\n",
        "             outgoing_muon,\n",
        "             outgoing_antimuon]\n",
        "edge_feat += edge_feat\n",
        "\n",
        "#Index to count the graph number\n",
        "graph_count=0\n",
        "\n",
        "for p in momenta_range:\n",
        "  for theta in np.linspace(0,np.pi,ang_res):\n",
        "\n",
        "    #Graph-level target\n",
        "    Mfi_squared = 1\n",
        "\n",
        "    #Create list of initial and final particle momenta with format [px,py,pz]\n",
        "    #momenta = [[0,0,p],[0,0,-p],[p*np.sin(theta)*m_e/m_mu,0,p*np.cos(theta)*m_e/m_mu],[-p*np.sin(theta)*m_e/m_mu,0,-p*np.cos(theta)*m_e/m_mu]]\n",
        "\n",
        "    #Create list of initial and final particle momenta in the zmf with format [initial,final,angle between]\n",
        "    momenta = [4*m_e**2+4*p**2, theta]\n",
        "\n",
        "    #Create the dataframe as an numpy array first\n",
        "    dataframe[graph_count,0]=Feyn_vertex\n",
        "    dataframe[graph_count,1]=edge_index\n",
        "    dataframe[graph_count,2]=edge_feat\n",
        "    dataframe[graph_count,3]=Mfi_squared\n",
        "    dataframe[graph_count,4]=momenta\n",
        "\n",
        "    #increment the index\n",
        "    graph_count += 1\n",
        "\n",
        "dataframe = pd.DataFrame(dataframe, columns=['x','edge_index','edge_attr','y','p'], index=np.arange(0,dataframe.shape[0],1))\n",
        "df_e_annih = pd.concat([df_e_annih,dataframe],ignore_index=True)"
      ]
    },
    {
      "cell_type": "markdown",
      "source": [
        "#$\\mathcal{M}(\\downarrow\\downarrow\\to\\downarrow\\downarrow)$"
      ],
      "metadata": {
        "id": "j5vR22ziZZgr"
      }
    },
    {
      "cell_type": "code",
      "source": [
        "#Setup: First make the dataframe a long list of arrays. 20,000 data points\n",
        "ang_res = 2000\n",
        "p_res = 10\n",
        "momenta_range=np.linspace(0, 10**4, p_res) \n",
        "dataframe = np.empty(shape=(ang_res*p_res,5),dtype=object)\n",
        "\n",
        "Feyn_vertex, edge_index = t_channel()\n",
        "\n",
        "#Edge features\n",
        "incoming_electron = E_minus(-1).get_feat()\n",
        "incoming_positron = E_plus(-1).get_feat()\n",
        "photon = Photon(-1).get_feat()\n",
        "outgoing_muon = E_minus(1).get_feat()\n",
        "outgoing_antimuon = E_plus(1).get_feat()\n",
        "edge_feat = [incoming_electron,\n",
        "             incoming_positron,\n",
        "             photon,\n",
        "             outgoing_muon,\n",
        "             outgoing_antimuon]\n",
        "edge_feat += edge_feat\n",
        "\n",
        "#Index to count the graph number\n",
        "graph_count=0\n",
        "\n",
        "for p in momenta_range:\n",
        "  for theta in np.linspace(0,np.pi,ang_res):\n",
        "\n",
        "    #Graph-level target\n",
        "    Mfi_squared = 1\n",
        "\n",
        "    #Create list of initial and final particle momenta with format [px,py,pz]\n",
        "    #momenta = [[0,0,p],[0,0,-p],[p*np.sin(theta)*m_e/m_mu,0,p*np.cos(theta)*m_e/m_mu],[-p*np.sin(theta)*m_e/m_mu,0,-p*np.cos(theta)*m_e/m_mu]]\n",
        "\n",
        "    #Create list of initial and final particle momenta in the zmf with format [initial,final,angle between]\n",
        "    momenta = [4*m_e**2+4*p**2, theta]\n",
        "\n",
        "    #Create the dataframe as an numpy array first\n",
        "    dataframe[graph_count,0]=Feyn_vertex\n",
        "    dataframe[graph_count,1]=edge_index\n",
        "    dataframe[graph_count,2]=edge_feat\n",
        "    dataframe[graph_count,3]=Mfi_squared\n",
        "    dataframe[graph_count,4]=momenta\n",
        "\n",
        "    #increment the index\n",
        "    graph_count += 1\n",
        "\n",
        "dataframe = pd.DataFrame(dataframe, columns=['x','edge_index','edge_attr','y','p'], index=np.arange(0,dataframe.shape[0],1))\n",
        "df_e_annih = pd.concat([df_e_annih,dataframe],ignore_index=True)"
      ],
      "metadata": {
        "id": "AzCxEEx9ZZgr"
      },
      "execution_count": null,
      "outputs": []
    },
    {
      "cell_type": "markdown",
      "source": [
        "#Still need s-channel diagrams too"
      ],
      "metadata": {
        "id": "5j5ckJT0YQJd"
      }
    },
    {
      "cell_type": "markdown",
      "source": [
        "#$\\mathcal{M}(\\uparrow\\downarrow\\to\\uparrow\\downarrow)$"
      ],
      "metadata": {
        "id": "xeKa96xyRIOI"
      }
    },
    {
      "cell_type": "code",
      "source": [
        "#Setup: First make the dataframe a long list of arrays. 20,000 data points\n",
        "ang_res = 200\n",
        "p_res = 100\n",
        "momenta_range=np.linspace(10**3, 10**5, p_res) \n",
        "dataframe = np.empty(shape=(ang_res*p_res,5),dtype=object)\n",
        "\n",
        "Feyn_vertex, edge_index = s_channel()\n",
        "\n",
        "#Edge features\n",
        "incoming_electron = E_minus(1).get_feat()\n",
        "incoming_positron = E_plus(-1).get_feat()\n",
        "photon = Photon(0).get_feat()\n",
        "outgoing_muon = E_minus(1).get_feat()\n",
        "outgoing_antimuon = E_plus(-1).get_feat()\n",
        "edge_feat = [incoming_electron,\n",
        "             incoming_positron,\n",
        "             photon,\n",
        "             outgoing_muon,\n",
        "             outgoing_antimuon]\n",
        "edge_feat += edge_feat\n",
        "\n",
        "#Index to count the graph number\n",
        "graph_count=0\n",
        "\n",
        "for p in momenta_range:\n",
        "  for theta in np.linspace(0,np.pi,ang_res):\n",
        "\n",
        "    #Graph-level target\n",
        "    Mfi_squared = (q_e**2*(1+np.cos(theta)))**2\n",
        "\n",
        "    #Create list of initial and final particle momenta in the zmf with format [initial,final,angle between]\n",
        "\n",
        "    #Create list of zmf energy and angle of deflection\n",
        "    momenta = [4*m_e**2+4*p**2, theta]\n",
        "\n",
        "    #Create the dataframe as an numpy array first\n",
        "    dataframe[graph_count,0]=Feyn_vertex\n",
        "    dataframe[graph_count,1]=edge_index\n",
        "    dataframe[graph_count,2]=edge_feat\n",
        "    dataframe[graph_count,3]=Mfi_squared\n",
        "    dataframe[graph_count,4]=momenta\n",
        "\n",
        "    #increment the index\n",
        "    graph_count += 1\n",
        "\n",
        "df_e_annih = pd.DataFrame(dataframe, columns=['x','edge_index','edge_attr','y','p'], index=np.arange(0,dataframe.shape[0],1))"
      ],
      "metadata": {
        "id": "KS7jUYZBRIOJ"
      },
      "execution_count": null,
      "outputs": []
    },
    {
      "cell_type": "markdown",
      "source": [
        "#$\\mathcal{M}(\\uparrow\\downarrow\\to\\downarrow\\uparrow)$"
      ],
      "metadata": {
        "id": "R-TcJGDiRIOJ"
      }
    },
    {
      "cell_type": "code",
      "source": [
        "#Setup: First make the dataframe a long list of arrays. 20,000 data points\n",
        "ang_res = 200\n",
        "p_res = 100\n",
        "momenta_range=np.linspace(10**3, 10**5, p_res) \n",
        "dataframe = np.empty(shape=(ang_res*p_res,5),dtype=object)\n",
        "\n",
        "Feyn_vertex, edge_index = s_channel()\n",
        "\n",
        "#Edge features\n",
        "incoming_electron = E_minus(1).get_feat()\n",
        "incoming_positron = E_plus(-1).get_feat()\n",
        "photon = Photon(0).get_feat()\n",
        "outgoing_muon = E_minus(-1).get_feat()\n",
        "outgoing_antimuon = E_plus(1).get_feat()\n",
        "edge_feat = [incoming_electron,\n",
        "             incoming_positron,\n",
        "             photon,\n",
        "             outgoing_muon,\n",
        "             outgoing_antimuon]\n",
        "edge_feat += edge_feat\n",
        "\n",
        "#Index to count the graph number\n",
        "graph_count=0\n",
        "\n",
        "for p in momenta_range:\n",
        "  for theta in np.linspace(0,np.pi,ang_res):\n",
        "\n",
        "    #Graph-level target\n",
        "    Mfi_squared = (q_e**2*(1-np.cos(theta)))**2\n",
        "\n",
        "    #Create list of initial and final particle momenta with format [px,py,pz]\n",
        "    #momenta = [[0,0,p],[0,0,-p],[p*np.sin(theta)*m_e/m_mu,0,p*np.cos(theta)*m_e/m_mu],[-p*np.sin(theta)*m_e/m_mu,0,-p*np.cos(theta)*m_e/m_mu]]\n",
        "\n",
        "    #Create list of initial and final particle momenta in the zmf with format [initial,final,angle between]\n",
        "    momenta = [4*m_e**2+4*p**2, theta]\n",
        "\n",
        "    #Create the dataframe as an numpy array first\n",
        "    dataframe[graph_count,0]=Feyn_vertex\n",
        "    dataframe[graph_count,1]=edge_index\n",
        "    dataframe[graph_count,2]=edge_feat\n",
        "    dataframe[graph_count,3]=Mfi_squared\n",
        "    dataframe[graph_count,4]=momenta\n",
        "\n",
        "    #increment the index\n",
        "    graph_count += 1\n",
        "\n",
        "dataframe = pd.DataFrame(dataframe, columns=['x','edge_index','edge_attr','y','p'], index=np.arange(0,dataframe.shape[0],1))\n",
        "df_e_annih = pd.concat([df_e_annih,dataframe],ignore_index=True)"
      ],
      "metadata": {
        "id": "Oyrvkr2ZRIOJ"
      },
      "execution_count": null,
      "outputs": []
    },
    {
      "cell_type": "markdown",
      "source": [
        "#$\\mathcal{M}(\\downarrow\\uparrow\\to\\uparrow\\downarrow)$"
      ],
      "metadata": {
        "id": "Gp0GGDMVRIOK"
      }
    },
    {
      "cell_type": "code",
      "source": [
        "#Setup: First make the dataframe a long list of arrays. 20,000 data points\n",
        "ang_res = 200\n",
        "p_res = 100\n",
        "momenta_range=np.linspace(10**3, 10**5, p_res) \n",
        "dataframe = np.empty(shape=(ang_res*p_res,5),dtype=object)\n",
        "\n",
        "Feyn_vertex, edge_index = s_channel()\n",
        "\n",
        "#Edge features\n",
        "incoming_electron = E_minus(-1).get_feat()\n",
        "incoming_positron = E_plus(1).get_feat()\n",
        "photon = Photon(0).get_feat()\n",
        "outgoing_muon = E_minus(1).get_feat()\n",
        "outgoing_antimuon = E_plus(-1).get_feat()\n",
        "edge_feat = [incoming_electron,\n",
        "             incoming_positron,\n",
        "             photon,\n",
        "             outgoing_muon,\n",
        "             outgoing_antimuon]\n",
        "edge_feat += edge_feat\n",
        "\n",
        "#Index to count the graph number\n",
        "graph_count=0\n",
        "\n",
        "for p in momenta_range:\n",
        "  for theta in np.linspace(0,np.pi,ang_res):\n",
        "\n",
        "    #Graph-level target\n",
        "    Mfi_squared = (q_e**2*(1-np.cos(theta)))**2\n",
        "\n",
        "    #Create list of initial and final particle momenta with format [px,py,pz]\n",
        "    #momenta = [[0,0,p],[0,0,-p],[p*np.sin(theta)*m_e/m_mu,0,p*np.cos(theta)*m_e/m_mu],[-p*np.sin(theta)*m_e/m_mu,0,-p*np.cos(theta)*m_e/m_mu]]\n",
        "\n",
        "    #Create list of initial and final particle momenta in the zmf with format [initial,final,angle between]\n",
        "    momenta = [4*m_e**2+4*p**2, theta]\n",
        "\n",
        "    #Create the dataframe as an numpy array first\n",
        "    dataframe[graph_count,0]=Feyn_vertex\n",
        "    dataframe[graph_count,1]=edge_index\n",
        "    dataframe[graph_count,2]=edge_feat\n",
        "    dataframe[graph_count,3]=Mfi_squared\n",
        "    dataframe[graph_count,4]=momenta\n",
        "\n",
        "    #increment the index\n",
        "    graph_count += 1\n",
        "\n",
        "dataframe = pd.DataFrame(dataframe, columns=['x','edge_index','edge_attr','y','p'], index=np.arange(0,dataframe.shape[0],1))\n",
        "df_e_annih = pd.concat([df_e_annih,dataframe],ignore_index=True)"
      ],
      "metadata": {
        "id": "a1mJRksERIOK"
      },
      "execution_count": null,
      "outputs": []
    },
    {
      "cell_type": "markdown",
      "source": [
        "#$\\mathcal{M}(\\downarrow\\uparrow\\to\\downarrow\\uparrow)$"
      ],
      "metadata": {
        "id": "Pds5HCGHRIOK"
      }
    },
    {
      "cell_type": "code",
      "source": [
        "#Setup: First make the dataframe a long list of arrays. 20,000 data points\n",
        "ang_res = 200\n",
        "p_res = 100\n",
        "momenta_range=np.linspace(10**3, 10**5, p_res) \n",
        "dataframe = np.empty(shape=(ang_res*p_res,5),dtype=object)\n",
        "\n",
        "Feyn_vertex, edge_index = s_channel()\n",
        "\n",
        "#Edge features\n",
        "incoming_electron = E_minus(-1).get_feat()\n",
        "incoming_positron = E_plus(1).get_feat()\n",
        "photon = Photon(0).get_feat()\n",
        "outgoing_muon = E_minus(-1).get_feat()\n",
        "outgoing_antimuon = E_plus(1).get_feat()\n",
        "edge_feat = [incoming_electron,\n",
        "             incoming_positron,\n",
        "             photon,\n",
        "             outgoing_muon,\n",
        "             outgoing_antimuon]\n",
        "edge_feat += edge_feat\n",
        "\n",
        "#Index to count the graph number\n",
        "graph_count=0\n",
        "\n",
        "for p in momenta_range:\n",
        "  for theta in np.linspace(0,np.pi,ang_res):\n",
        "\n",
        "    #Graph-level target\n",
        "    Mfi_squared = (q_e**2*(1+np.cos(theta)))**2\n",
        "\n",
        "    #Create list of initial and final particle momenta with format [px,py,pz]\n",
        "    #momenta = [[0,0,p],[0,0,-p],[p*np.sin(theta)*m_e/m_mu,0,p*np.cos(theta)*m_e/m_mu],[-p*np.sin(theta)*m_e/m_mu,0,-p*np.cos(theta)*m_e/m_mu]]\n",
        "\n",
        "    #Create list of initial and final particle momenta in the zmf with format [initial,final,angle between]\n",
        "    momenta = [4*m_e**2+4*p**2, theta]\n",
        "\n",
        "    #Create the dataframe as an numpy array first\n",
        "    dataframe[graph_count,0]=Feyn_vertex\n",
        "    dataframe[graph_count,1]=edge_index\n",
        "    dataframe[graph_count,2]=edge_feat\n",
        "    dataframe[graph_count,3]=Mfi_squared\n",
        "    dataframe[graph_count,4]=momenta\n",
        "\n",
        "    #increment the index\n",
        "    graph_count += 1\n",
        "\n",
        "dataframe = pd.DataFrame(dataframe, columns=['x','edge_index','edge_attr','y','p'], index=np.arange(0,dataframe.shape[0],1))\n",
        "df_e_annih = pd.concat([df_e_annih,dataframe],ignore_index=True)"
      ],
      "metadata": {
        "id": "2U2I4dPORIOK"
      },
      "execution_count": null,
      "outputs": []
    },
    {
      "cell_type": "markdown",
      "source": [
        "#$\\mathcal{M}(\\uparrow\\uparrow\\to\\uparrow\\uparrow)$"
      ],
      "metadata": {
        "id": "-WA3StrKRIOL"
      }
    },
    {
      "cell_type": "code",
      "execution_count": null,
      "metadata": {
        "id": "fCJO5L7LRIOL"
      },
      "outputs": [],
      "source": [
        "#Setup: First make the dataframe a long list of arrays. 2,000 data points\n",
        "ang_res = 200\n",
        "p_res = 10\n",
        "momenta_range=np.linspace(10**3, 10**5, p_res) \n",
        "dataframe = np.empty(shape=(ang_res*p_res,5),dtype=object)\n",
        "\n",
        "Feyn_vertex, edge_index = s_channel()\n",
        "\n",
        "#Edge features\n",
        "incoming_electron = E_minus(1).get_feat()\n",
        "incoming_positron = E_plus(1).get_feat()\n",
        "photon = Photon(1).get_feat()\n",
        "outgoing_muon = E_minus(1).get_feat()\n",
        "outgoing_antimuon = E_plus(1).get_feat()\n",
        "edge_feat = [incoming_electron,\n",
        "             incoming_positron,\n",
        "             photon,\n",
        "             outgoing_muon,\n",
        "             outgoing_antimuon]\n",
        "edge_feat += edge_feat\n",
        "\n",
        "#Index to count the graph number\n",
        "graph_count=0\n",
        "\n",
        "for p in momenta_range:\n",
        "  for theta in np.linspace(0,np.pi,ang_res):\n",
        "\n",
        "    #Graph-level target\n",
        "    Mfi_squared = 0\n",
        "\n",
        "    #Create list of initial and final particle momenta with format [px,py,pz]\n",
        "    #momenta = [[0,0,p],[0,0,-p],[p*np.sin(theta)*m_e/m_mu,0,p*np.cos(theta)*m_e/m_mu],[-p*np.sin(theta)*m_e/m_mu,0,-p*np.cos(theta)*m_e/m_mu]]\n",
        "\n",
        "    #Create list of initial and final particle momenta in the zmf with format [initial,final,angle between]\n",
        "    momenta = [4*m_e**2+4*p**2, theta]\n",
        "\n",
        "    #Create the dataframe as an numpy array first\n",
        "    dataframe[graph_count,0]=Feyn_vertex\n",
        "    dataframe[graph_count,1]=edge_index\n",
        "    dataframe[graph_count,2]=edge_feat\n",
        "    dataframe[graph_count,3]=Mfi_squared\n",
        "    dataframe[graph_count,4]=momenta\n",
        "\n",
        "    #increment the index\n",
        "    graph_count += 1\n",
        "\n",
        "dataframe = pd.DataFrame(dataframe, columns=['x','edge_index','edge_attr','y','p'], index=np.arange(0,dataframe.shape[0],1))\n",
        "df_e_annih = pd.concat([df_e_annih,dataframe],ignore_index=True)"
      ]
    },
    {
      "cell_type": "markdown",
      "source": [
        "#$\\mathcal{M}(\\downarrow\\downarrow\\to\\downarrow\\downarrow)$"
      ],
      "metadata": {
        "id": "lwTOZEIVRIOL"
      }
    },
    {
      "cell_type": "code",
      "source": [
        "#Setup: First make the dataframe a long list of arrays. 2,000 data points\n",
        "ang_res = 200\n",
        "p_res = 10\n",
        "momenta_range=np.linspace(0, 10**4, p_res) \n",
        "dataframe = np.empty(shape=(ang_res*p_res,5),dtype=object)\n",
        "\n",
        "Feyn_vertex, edge_index = s_channel()\n",
        "\n",
        "#Edge features\n",
        "incoming_electron = E_minus(-1).get_feat()\n",
        "incoming_positron = E_plus(-1).get_feat()\n",
        "photon = Photon(-1).get_feat()\n",
        "outgoing_muon = E_minus(1).get_feat()\n",
        "outgoing_antimuon = E_plus(1).get_feat()\n",
        "edge_feat = [incoming_electron,\n",
        "             incoming_positron,\n",
        "             photon,\n",
        "             outgoing_muon,\n",
        "             outgoing_antimuon]\n",
        "edge_feat += edge_feat\n",
        "\n",
        "#Index to count the graph number\n",
        "graph_count=0\n",
        "\n",
        "for p in momenta_range:\n",
        "  for theta in np.linspace(0,np.pi,ang_res):\n",
        "\n",
        "    #Graph-level target\n",
        "    Mfi_squared = 0\n",
        "\n",
        "    #Create list of initial and final particle momenta with format [px,py,pz]\n",
        "    #momenta = [[0,0,p],[0,0,-p],[p*np.sin(theta)*m_e/m_mu,0,p*np.cos(theta)*m_e/m_mu],[-p*np.sin(theta)*m_e/m_mu,0,-p*np.cos(theta)*m_e/m_mu]]\n",
        "\n",
        "    #Create list of initial and final particle momenta in the zmf with format [initial,final,angle between]\n",
        "    momenta = [4*m_e**2+4*p**2, theta]\n",
        "\n",
        "    #Create the dataframe as an numpy array first\n",
        "    dataframe[graph_count,0]=Feyn_vertex\n",
        "    dataframe[graph_count,1]=edge_index\n",
        "    dataframe[graph_count,2]=edge_feat\n",
        "    dataframe[graph_count,3]=Mfi_squared\n",
        "    dataframe[graph_count,4]=momenta\n",
        "\n",
        "    #increment the index\n",
        "    graph_count += 1\n",
        "\n",
        "dataframe = pd.DataFrame(dataframe, columns=['x','edge_index','edge_attr','y','p'], index=np.arange(0,dataframe.shape[0],1))\n",
        "df_e_annih = pd.concat([df_e_annih,dataframe],ignore_index=True)"
      ],
      "metadata": {
        "id": "mECEzD3uRIOM"
      },
      "execution_count": null,
      "outputs": []
    },
    {
      "cell_type": "code",
      "source": [
        "#save the file\n",
        "filepath = '/content/gdrive/MyDrive/Part_III_Project/data/raw/'\n",
        "os.makedirs(filepath, exist_ok=True)  \n",
        "df_e_annih.to_csv(path_or_buf=\"/content/gdrive/MyDrive/Part_III_Project/data/raw/QED_data_e_annih.csv\")"
      ],
      "metadata": {
        "id": "mgtP83wr8Lx6"
      },
      "execution_count": null,
      "outputs": []
    },
    {
      "cell_type": "markdown",
      "source": [
        "#**Testing Sampling**"
      ],
      "metadata": {
        "id": "hkMqzMcUalXJ"
      }
    },
    {
      "cell_type": "code",
      "source": [
        ""
      ],
      "metadata": {
        "id": "K1rVJRd3anuO"
      },
      "execution_count": null,
      "outputs": []
    },
    {
      "cell_type": "code",
      "source": [
        "w = df_e_annih_mu['y'].astype(float).round(3)\n",
        "w_dict = 1/w.value_counts()\n",
        "def weight_lookup(x):\n",
        "  x = np.round(x,3)\n",
        "  return w_dict[x]\n",
        "df_e_annih_mu['sample_weight']=df_e_annih_mu['y'].apply(lambda x: weight_lookup(x))"
      ],
      "metadata": {
        "id": "3TBByDj6z8FK"
      },
      "execution_count": null,
      "outputs": []
    },
    {
      "cell_type": "code",
      "source": [
        "rep_df = df_e_annih_mu.sample(n=1000,weights=df_e_annih_mu['sample_weight'])\n",
        "#print(rep_df['y'])\n",
        "rep_df['y'].hist(bins=30)"
      ],
      "metadata": {
        "colab": {
          "base_uri": "https://localhost:8080/",
          "height": 370
        },
        "id": "Uv08_xTpxnjD",
        "outputId": "bff06949-053a-4ec3-cf35-23a28266e0de"
      },
      "execution_count": null,
      "outputs": [
        {
          "output_type": "execute_result",
          "data": {
            "text/plain": [
              "<matplotlib.axes._subplots.AxesSubplot at 0x7f9c7c86b9d0>"
            ]
          },
          "metadata": {},
          "execution_count": 97
        },
        {
          "output_type": "display_data",
          "data": {
            "text/plain": [
              "<Figure size 432x288 with 1 Axes>"
            ],
            "image/svg+xml": "<?xml version=\"1.0\" encoding=\"utf-8\" standalone=\"no\"?>\n<!DOCTYPE svg PUBLIC \"-//W3C//DTD SVG 1.1//EN\"\n  \"http://www.w3.org/Graphics/SVG/1.1/DTD/svg11.dtd\">\n<!-- Created with matplotlib (https://matplotlib.org/) -->\n<svg height=\"248.518125pt\" version=\"1.1\" viewBox=\"0 0 380.192598 248.518125\" width=\"380.192598pt\" xmlns=\"http://www.w3.org/2000/svg\" xmlns:xlink=\"http://www.w3.org/1999/xlink\">\n <defs>\n  <style type=\"text/css\">\n*{stroke-linecap:butt;stroke-linejoin:round;}\n  </style>\n </defs>\n <g id=\"figure_1\">\n  <g id=\"patch_1\">\n   <path d=\"M -0 248.518125 \nL 380.192598 248.518125 \nL 380.192598 0 \nL -0 0 \nz\n\" style=\"fill:none;\"/>\n  </g>\n  <g id=\"axes_1\">\n   <g id=\"patch_2\">\n    <path d=\"M 26.925 224.64 \nL 361.725 224.64 \nL 361.725 7.2 \nL 26.925 7.2 \nz\n\" style=\"fill:#ffffff;\"/>\n   </g>\n   <g id=\"patch_3\">\n    <path clip-path=\"url(#pb8404a6613)\" d=\"M 42.143182 224.64 \nL 52.288636 224.64 \nL 52.288636 17.554286 \nL 42.143182 17.554286 \nz\n\" style=\"fill:#1f77b4;\"/>\n   </g>\n   <g id=\"patch_4\">\n    <path clip-path=\"url(#pb8404a6613)\" d=\"M 52.288636 224.64 \nL 62.434091 224.64 \nL 62.434091 137.026813 \nL 52.288636 137.026813 \nz\n\" style=\"fill:#1f77b4;\"/>\n   </g>\n   <g id=\"patch_5\">\n    <path clip-path=\"url(#pb8404a6613)\" d=\"M 62.434091 224.64 \nL 72.579545 224.64 \nL 72.579545 125.07956 \nL 62.434091 125.07956 \nz\n\" style=\"fill:#1f77b4;\"/>\n   </g>\n   <g id=\"patch_6\">\n    <path clip-path=\"url(#pb8404a6613)\" d=\"M 72.579545 224.64 \nL 82.725 224.64 \nL 82.725 113.132308 \nL 72.579545 113.132308 \nz\n\" style=\"fill:#1f77b4;\"/>\n   </g>\n   <g id=\"patch_7\">\n    <path clip-path=\"url(#pb8404a6613)\" d=\"M 82.725 224.64 \nL 92.870455 224.64 \nL 92.870455 105.167473 \nL 82.725 105.167473 \nz\n\" style=\"fill:#1f77b4;\"/>\n   </g>\n   <g id=\"patch_8\">\n    <path clip-path=\"url(#pb8404a6613)\" d=\"M 92.870455 224.64 \nL 103.015909 224.64 \nL 103.015909 117.114725 \nL 92.870455 117.114725 \nz\n\" style=\"fill:#1f77b4;\"/>\n   </g>\n   <g id=\"patch_9\">\n    <path clip-path=\"url(#pb8404a6613)\" d=\"M 103.015909 224.64 \nL 113.161364 224.64 \nL 113.161364 37.466374 \nL 103.015909 37.466374 \nz\n\" style=\"fill:#1f77b4;\"/>\n   </g>\n   <g id=\"patch_10\">\n    <path clip-path=\"url(#pb8404a6613)\" d=\"M 113.161364 224.64 \nL 123.306818 224.64 \nL 123.306818 81.272967 \nL 113.161364 81.272967 \nz\n\" style=\"fill:#1f77b4;\"/>\n   </g>\n   <g id=\"patch_11\">\n    <path clip-path=\"url(#pb8404a6613)\" d=\"M 123.306818 224.64 \nL 133.452273 224.64 \nL 133.452273 89.237802 \nL 123.306818 89.237802 \nz\n\" style=\"fill:#1f77b4;\"/>\n   </g>\n   <g id=\"patch_12\">\n    <path clip-path=\"url(#pb8404a6613)\" d=\"M 133.452273 224.64 \nL 143.597727 224.64 \nL 143.597727 93.22022 \nL 133.452273 93.22022 \nz\n\" style=\"fill:#1f77b4;\"/>\n   </g>\n   <g id=\"patch_13\">\n    <path clip-path=\"url(#pb8404a6613)\" d=\"M 143.597727 224.64 \nL 153.743182 224.64 \nL 153.743182 109.14989 \nL 143.597727 109.14989 \nz\n\" style=\"fill:#1f77b4;\"/>\n   </g>\n   <g id=\"patch_14\">\n    <path clip-path=\"url(#pb8404a6613)\" d=\"M 153.743182 224.64 \nL 163.888636 224.64 \nL 163.888636 73.308132 \nL 153.743182 73.308132 \nz\n\" style=\"fill:#1f77b4;\"/>\n   </g>\n   <g id=\"patch_15\">\n    <path clip-path=\"url(#pb8404a6613)\" d=\"M 163.888636 224.64 \nL 174.034091 224.64 \nL 174.034091 141.009231 \nL 163.888636 141.009231 \nz\n\" style=\"fill:#1f77b4;\"/>\n   </g>\n   <g id=\"patch_16\">\n    <path clip-path=\"url(#pb8404a6613)\" d=\"M 174.034091 224.64 \nL 184.179545 224.64 \nL 184.179545 57.378462 \nL 174.034091 57.378462 \nz\n\" style=\"fill:#1f77b4;\"/>\n   </g>\n   <g id=\"patch_17\">\n    <path clip-path=\"url(#pb8404a6613)\" d=\"M 184.179545 224.64 \nL 194.325 224.64 \nL 194.325 125.07956 \nL 184.179545 125.07956 \nz\n\" style=\"fill:#1f77b4;\"/>\n   </g>\n   <g id=\"patch_18\">\n    <path clip-path=\"url(#pb8404a6613)\" d=\"M 194.325 224.64 \nL 204.470455 224.64 \nL 204.470455 81.272967 \nL 194.325 81.272967 \nz\n\" style=\"fill:#1f77b4;\"/>\n   </g>\n   <g id=\"patch_19\">\n    <path clip-path=\"url(#pb8404a6613)\" d=\"M 204.470455 224.64 \nL 214.615909 224.64 \nL 214.615909 85.255385 \nL 204.470455 85.255385 \nz\n\" style=\"fill:#1f77b4;\"/>\n   </g>\n   <g id=\"patch_20\">\n    <path clip-path=\"url(#pb8404a6613)\" d=\"M 214.615909 224.64 \nL 224.761364 224.64 \nL 224.761364 89.237802 \nL 214.615909 89.237802 \nz\n\" style=\"fill:#1f77b4;\"/>\n   </g>\n   <g id=\"patch_21\">\n    <path clip-path=\"url(#pb8404a6613)\" d=\"M 224.761364 224.64 \nL 234.906818 224.64 \nL 234.906818 125.07956 \nL 224.761364 125.07956 \nz\n\" style=\"fill:#1f77b4;\"/>\n   </g>\n   <g id=\"patch_22\">\n    <path clip-path=\"url(#pb8404a6613)\" d=\"M 234.906818 224.64 \nL 245.052273 224.64 \nL 245.052273 125.07956 \nL 234.906818 125.07956 \nz\n\" style=\"fill:#1f77b4;\"/>\n   </g>\n   <g id=\"patch_23\">\n    <path clip-path=\"url(#pb8404a6613)\" d=\"M 245.052273 224.64 \nL 255.197727 224.64 \nL 255.197727 89.237802 \nL 245.052273 89.237802 \nz\n\" style=\"fill:#1f77b4;\"/>\n   </g>\n   <g id=\"patch_24\">\n    <path clip-path=\"url(#pb8404a6613)\" d=\"M 255.197727 224.64 \nL 265.343182 224.64 \nL 265.343182 85.255385 \nL 255.197727 85.255385 \nz\n\" style=\"fill:#1f77b4;\"/>\n   </g>\n   <g id=\"patch_25\">\n    <path clip-path=\"url(#pb8404a6613)\" d=\"M 265.343182 224.64 \nL 275.488636 224.64 \nL 275.488636 41.448791 \nL 265.343182 41.448791 \nz\n\" style=\"fill:#1f77b4;\"/>\n   </g>\n   <g id=\"patch_26\">\n    <path clip-path=\"url(#pb8404a6613)\" d=\"M 275.488636 224.64 \nL 285.634091 224.64 \nL 285.634091 101.185055 \nL 275.488636 101.185055 \nz\n\" style=\"fill:#1f77b4;\"/>\n   </g>\n   <g id=\"patch_27\">\n    <path clip-path=\"url(#pb8404a6613)\" d=\"M 285.634091 224.64 \nL 295.779545 224.64 \nL 295.779545 73.308132 \nL 285.634091 73.308132 \nz\n\" style=\"fill:#1f77b4;\"/>\n   </g>\n   <g id=\"patch_28\">\n    <path clip-path=\"url(#pb8404a6613)\" d=\"M 295.779545 224.64 \nL 305.925 224.64 \nL 305.925 65.343297 \nL 295.779545 65.343297 \nz\n\" style=\"fill:#1f77b4;\"/>\n   </g>\n   <g id=\"patch_29\">\n    <path clip-path=\"url(#pb8404a6613)\" d=\"M 305.925 224.64 \nL 316.070455 224.64 \nL 316.070455 129.061978 \nL 305.925 129.061978 \nz\n\" style=\"fill:#1f77b4;\"/>\n   </g>\n   <g id=\"patch_30\">\n    <path clip-path=\"url(#pb8404a6613)\" d=\"M 316.070455 224.64 \nL 326.215909 224.64 \nL 326.215909 125.07956 \nL 316.070455 125.07956 \nz\n\" style=\"fill:#1f77b4;\"/>\n   </g>\n   <g id=\"patch_31\">\n    <path clip-path=\"url(#pb8404a6613)\" d=\"M 326.215909 224.64 \nL 336.361364 224.64 \nL 336.361364 85.255385 \nL 326.215909 85.255385 \nz\n\" style=\"fill:#1f77b4;\"/>\n   </g>\n   <g id=\"patch_32\">\n    <path clip-path=\"url(#pb8404a6613)\" d=\"M 336.361364 224.64 \nL 346.506818 224.64 \nL 346.506818 33.483956 \nL 336.361364 33.483956 \nz\n\" style=\"fill:#1f77b4;\"/>\n   </g>\n   <g id=\"matplotlib.axis_1\">\n    <g id=\"xtick_1\">\n     <g id=\"line2d_1\">\n      <path clip-path=\"url(#pb8404a6613)\" d=\"M 42.143182 224.64 \nL 42.143182 7.2 \n\" style=\"fill:none;stroke:#b0b0b0;stroke-linecap:square;stroke-width:0.8;\"/>\n     </g>\n     <g id=\"line2d_2\">\n      <defs>\n       <path d=\"M 0 0 \nL 0 3.5 \n\" id=\"mdc2fe87ba5\" style=\"stroke:#000000;stroke-width:0.8;\"/>\n      </defs>\n      <g>\n       <use style=\"stroke:#000000;stroke-width:0.8;\" x=\"42.143182\" xlink:href=\"#mdc2fe87ba5\" y=\"224.64\"/>\n      </g>\n     </g>\n     <g id=\"text_1\">\n      <!-- 0.000 -->\n      <defs>\n       <path d=\"M 31.78125 66.40625 \nQ 24.171875 66.40625 20.328125 58.90625 \nQ 16.5 51.421875 16.5 36.375 \nQ 16.5 21.390625 20.328125 13.890625 \nQ 24.171875 6.390625 31.78125 6.390625 \nQ 39.453125 6.390625 43.28125 13.890625 \nQ 47.125 21.390625 47.125 36.375 \nQ 47.125 51.421875 43.28125 58.90625 \nQ 39.453125 66.40625 31.78125 66.40625 \nz\nM 31.78125 74.21875 \nQ 44.046875 74.21875 50.515625 64.515625 \nQ 56.984375 54.828125 56.984375 36.375 \nQ 56.984375 17.96875 50.515625 8.265625 \nQ 44.046875 -1.421875 31.78125 -1.421875 \nQ 19.53125 -1.421875 13.0625 8.265625 \nQ 6.59375 17.96875 6.59375 36.375 \nQ 6.59375 54.828125 13.0625 64.515625 \nQ 19.53125 74.21875 31.78125 74.21875 \nz\n\" id=\"DejaVuSans-48\"/>\n       <path d=\"M 10.6875 12.40625 \nL 21 12.40625 \nL 21 0 \nL 10.6875 0 \nz\n\" id=\"DejaVuSans-46\"/>\n      </defs>\n      <g transform=\"translate(27.829119 239.238437)scale(0.1 -0.1)\">\n       <use xlink:href=\"#DejaVuSans-48\"/>\n       <use x=\"63.623047\" xlink:href=\"#DejaVuSans-46\"/>\n       <use x=\"95.410156\" xlink:href=\"#DejaVuSans-48\"/>\n       <use x=\"159.033203\" xlink:href=\"#DejaVuSans-48\"/>\n       <use x=\"222.65625\" xlink:href=\"#DejaVuSans-48\"/>\n      </g>\n     </g>\n    </g>\n    <g id=\"xtick_2\">\n     <g id=\"line2d_3\">\n      <path clip-path=\"url(#pb8404a6613)\" d=\"M 87.362518 224.64 \nL 87.362518 7.2 \n\" style=\"fill:none;stroke:#b0b0b0;stroke-linecap:square;stroke-width:0.8;\"/>\n     </g>\n     <g id=\"line2d_4\">\n      <g>\n       <use style=\"stroke:#000000;stroke-width:0.8;\" x=\"87.362518\" xlink:href=\"#mdc2fe87ba5\" y=\"224.64\"/>\n      </g>\n     </g>\n     <g id=\"text_2\">\n      <!-- 0.005 -->\n      <defs>\n       <path d=\"M 10.796875 72.90625 \nL 49.515625 72.90625 \nL 49.515625 64.59375 \nL 19.828125 64.59375 \nL 19.828125 46.734375 \nQ 21.96875 47.46875 24.109375 47.828125 \nQ 26.265625 48.1875 28.421875 48.1875 \nQ 40.625 48.1875 47.75 41.5 \nQ 54.890625 34.8125 54.890625 23.390625 \nQ 54.890625 11.625 47.5625 5.09375 \nQ 40.234375 -1.421875 26.90625 -1.421875 \nQ 22.3125 -1.421875 17.546875 -0.640625 \nQ 12.796875 0.140625 7.71875 1.703125 \nL 7.71875 11.625 \nQ 12.109375 9.234375 16.796875 8.0625 \nQ 21.484375 6.890625 26.703125 6.890625 \nQ 35.15625 6.890625 40.078125 11.328125 \nQ 45.015625 15.765625 45.015625 23.390625 \nQ 45.015625 31 40.078125 35.4375 \nQ 35.15625 39.890625 26.703125 39.890625 \nQ 22.75 39.890625 18.8125 39.015625 \nQ 14.890625 38.140625 10.796875 36.28125 \nz\n\" id=\"DejaVuSans-53\"/>\n      </defs>\n      <g transform=\"translate(73.048456 239.238437)scale(0.1 -0.1)\">\n       <use xlink:href=\"#DejaVuSans-48\"/>\n       <use x=\"63.623047\" xlink:href=\"#DejaVuSans-46\"/>\n       <use x=\"95.410156\" xlink:href=\"#DejaVuSans-48\"/>\n       <use x=\"159.033203\" xlink:href=\"#DejaVuSans-48\"/>\n       <use x=\"222.65625\" xlink:href=\"#DejaVuSans-53\"/>\n      </g>\n     </g>\n    </g>\n    <g id=\"xtick_3\">\n     <g id=\"line2d_5\">\n      <path clip-path=\"url(#pb8404a6613)\" d=\"M 132.581854 224.64 \nL 132.581854 7.2 \n\" style=\"fill:none;stroke:#b0b0b0;stroke-linecap:square;stroke-width:0.8;\"/>\n     </g>\n     <g id=\"line2d_6\">\n      <g>\n       <use style=\"stroke:#000000;stroke-width:0.8;\" x=\"132.581854\" xlink:href=\"#mdc2fe87ba5\" y=\"224.64\"/>\n      </g>\n     </g>\n     <g id=\"text_3\">\n      <!-- 0.010 -->\n      <defs>\n       <path d=\"M 12.40625 8.296875 \nL 28.515625 8.296875 \nL 28.515625 63.921875 \nL 10.984375 60.40625 \nL 10.984375 69.390625 \nL 28.421875 72.90625 \nL 38.28125 72.90625 \nL 38.28125 8.296875 \nL 54.390625 8.296875 \nL 54.390625 0 \nL 12.40625 0 \nz\n\" id=\"DejaVuSans-49\"/>\n      </defs>\n      <g transform=\"translate(118.267792 239.238437)scale(0.1 -0.1)\">\n       <use xlink:href=\"#DejaVuSans-48\"/>\n       <use x=\"63.623047\" xlink:href=\"#DejaVuSans-46\"/>\n       <use x=\"95.410156\" xlink:href=\"#DejaVuSans-48\"/>\n       <use x=\"159.033203\" xlink:href=\"#DejaVuSans-49\"/>\n       <use x=\"222.65625\" xlink:href=\"#DejaVuSans-48\"/>\n      </g>\n     </g>\n    </g>\n    <g id=\"xtick_4\">\n     <g id=\"line2d_7\">\n      <path clip-path=\"url(#pb8404a6613)\" d=\"M 177.801191 224.64 \nL 177.801191 7.2 \n\" style=\"fill:none;stroke:#b0b0b0;stroke-linecap:square;stroke-width:0.8;\"/>\n     </g>\n     <g id=\"line2d_8\">\n      <g>\n       <use style=\"stroke:#000000;stroke-width:0.8;\" x=\"177.801191\" xlink:href=\"#mdc2fe87ba5\" y=\"224.64\"/>\n      </g>\n     </g>\n     <g id=\"text_4\">\n      <!-- 0.015 -->\n      <g transform=\"translate(163.487128 239.238437)scale(0.1 -0.1)\">\n       <use xlink:href=\"#DejaVuSans-48\"/>\n       <use x=\"63.623047\" xlink:href=\"#DejaVuSans-46\"/>\n       <use x=\"95.410156\" xlink:href=\"#DejaVuSans-48\"/>\n       <use x=\"159.033203\" xlink:href=\"#DejaVuSans-49\"/>\n       <use x=\"222.65625\" xlink:href=\"#DejaVuSans-53\"/>\n      </g>\n     </g>\n    </g>\n    <g id=\"xtick_5\">\n     <g id=\"line2d_9\">\n      <path clip-path=\"url(#pb8404a6613)\" d=\"M 223.020527 224.64 \nL 223.020527 7.2 \n\" style=\"fill:none;stroke:#b0b0b0;stroke-linecap:square;stroke-width:0.8;\"/>\n     </g>\n     <g id=\"line2d_10\">\n      <g>\n       <use style=\"stroke:#000000;stroke-width:0.8;\" x=\"223.020527\" xlink:href=\"#mdc2fe87ba5\" y=\"224.64\"/>\n      </g>\n     </g>\n     <g id=\"text_5\">\n      <!-- 0.020 -->\n      <defs>\n       <path d=\"M 19.1875 8.296875 \nL 53.609375 8.296875 \nL 53.609375 0 \nL 7.328125 0 \nL 7.328125 8.296875 \nQ 12.9375 14.109375 22.625 23.890625 \nQ 32.328125 33.6875 34.8125 36.53125 \nQ 39.546875 41.84375 41.421875 45.53125 \nQ 43.3125 49.21875 43.3125 52.78125 \nQ 43.3125 58.59375 39.234375 62.25 \nQ 35.15625 65.921875 28.609375 65.921875 \nQ 23.96875 65.921875 18.8125 64.3125 \nQ 13.671875 62.703125 7.8125 59.421875 \nL 7.8125 69.390625 \nQ 13.765625 71.78125 18.9375 73 \nQ 24.125 74.21875 28.421875 74.21875 \nQ 39.75 74.21875 46.484375 68.546875 \nQ 53.21875 62.890625 53.21875 53.421875 \nQ 53.21875 48.921875 51.53125 44.890625 \nQ 49.859375 40.875 45.40625 35.40625 \nQ 44.1875 33.984375 37.640625 27.21875 \nQ 31.109375 20.453125 19.1875 8.296875 \nz\n\" id=\"DejaVuSans-50\"/>\n      </defs>\n      <g transform=\"translate(208.706464 239.238437)scale(0.1 -0.1)\">\n       <use xlink:href=\"#DejaVuSans-48\"/>\n       <use x=\"63.623047\" xlink:href=\"#DejaVuSans-46\"/>\n       <use x=\"95.410156\" xlink:href=\"#DejaVuSans-48\"/>\n       <use x=\"159.033203\" xlink:href=\"#DejaVuSans-50\"/>\n       <use x=\"222.65625\" xlink:href=\"#DejaVuSans-48\"/>\n      </g>\n     </g>\n    </g>\n    <g id=\"xtick_6\">\n     <g id=\"line2d_11\">\n      <path clip-path=\"url(#pb8404a6613)\" d=\"M 268.239863 224.64 \nL 268.239863 7.2 \n\" style=\"fill:none;stroke:#b0b0b0;stroke-linecap:square;stroke-width:0.8;\"/>\n     </g>\n     <g id=\"line2d_12\">\n      <g>\n       <use style=\"stroke:#000000;stroke-width:0.8;\" x=\"268.239863\" xlink:href=\"#mdc2fe87ba5\" y=\"224.64\"/>\n      </g>\n     </g>\n     <g id=\"text_6\">\n      <!-- 0.025 -->\n      <g transform=\"translate(253.925801 239.238437)scale(0.1 -0.1)\">\n       <use xlink:href=\"#DejaVuSans-48\"/>\n       <use x=\"63.623047\" xlink:href=\"#DejaVuSans-46\"/>\n       <use x=\"95.410156\" xlink:href=\"#DejaVuSans-48\"/>\n       <use x=\"159.033203\" xlink:href=\"#DejaVuSans-50\"/>\n       <use x=\"222.65625\" xlink:href=\"#DejaVuSans-53\"/>\n      </g>\n     </g>\n    </g>\n    <g id=\"xtick_7\">\n     <g id=\"line2d_13\">\n      <path clip-path=\"url(#pb8404a6613)\" d=\"M 313.459199 224.64 \nL 313.459199 7.2 \n\" style=\"fill:none;stroke:#b0b0b0;stroke-linecap:square;stroke-width:0.8;\"/>\n     </g>\n     <g id=\"line2d_14\">\n      <g>\n       <use style=\"stroke:#000000;stroke-width:0.8;\" x=\"313.459199\" xlink:href=\"#mdc2fe87ba5\" y=\"224.64\"/>\n      </g>\n     </g>\n     <g id=\"text_7\">\n      <!-- 0.030 -->\n      <defs>\n       <path d=\"M 40.578125 39.3125 \nQ 47.65625 37.796875 51.625 33 \nQ 55.609375 28.21875 55.609375 21.1875 \nQ 55.609375 10.40625 48.1875 4.484375 \nQ 40.765625 -1.421875 27.09375 -1.421875 \nQ 22.515625 -1.421875 17.65625 -0.515625 \nQ 12.796875 0.390625 7.625 2.203125 \nL 7.625 11.71875 \nQ 11.71875 9.328125 16.59375 8.109375 \nQ 21.484375 6.890625 26.8125 6.890625 \nQ 36.078125 6.890625 40.9375 10.546875 \nQ 45.796875 14.203125 45.796875 21.1875 \nQ 45.796875 27.640625 41.28125 31.265625 \nQ 36.765625 34.90625 28.71875 34.90625 \nL 20.21875 34.90625 \nL 20.21875 43.015625 \nL 29.109375 43.015625 \nQ 36.375 43.015625 40.234375 45.921875 \nQ 44.09375 48.828125 44.09375 54.296875 \nQ 44.09375 59.90625 40.109375 62.90625 \nQ 36.140625 65.921875 28.71875 65.921875 \nQ 24.65625 65.921875 20.015625 65.03125 \nQ 15.375 64.15625 9.8125 62.3125 \nL 9.8125 71.09375 \nQ 15.4375 72.65625 20.34375 73.4375 \nQ 25.25 74.21875 29.59375 74.21875 \nQ 40.828125 74.21875 47.359375 69.109375 \nQ 53.90625 64.015625 53.90625 55.328125 \nQ 53.90625 49.265625 50.4375 45.09375 \nQ 46.96875 40.921875 40.578125 39.3125 \nz\n\" id=\"DejaVuSans-51\"/>\n      </defs>\n      <g transform=\"translate(299.145137 239.238437)scale(0.1 -0.1)\">\n       <use xlink:href=\"#DejaVuSans-48\"/>\n       <use x=\"63.623047\" xlink:href=\"#DejaVuSans-46\"/>\n       <use x=\"95.410156\" xlink:href=\"#DejaVuSans-48\"/>\n       <use x=\"159.033203\" xlink:href=\"#DejaVuSans-51\"/>\n       <use x=\"222.65625\" xlink:href=\"#DejaVuSans-48\"/>\n      </g>\n     </g>\n    </g>\n    <g id=\"xtick_8\">\n     <g id=\"line2d_15\">\n      <path clip-path=\"url(#pb8404a6613)\" d=\"M 358.678536 224.64 \nL 358.678536 7.2 \n\" style=\"fill:none;stroke:#b0b0b0;stroke-linecap:square;stroke-width:0.8;\"/>\n     </g>\n     <g id=\"line2d_16\">\n      <g>\n       <use style=\"stroke:#000000;stroke-width:0.8;\" x=\"358.678536\" xlink:href=\"#mdc2fe87ba5\" y=\"224.64\"/>\n      </g>\n     </g>\n     <g id=\"text_8\">\n      <!-- 0.035 -->\n      <g transform=\"translate(344.364473 239.238437)scale(0.1 -0.1)\">\n       <use xlink:href=\"#DejaVuSans-48\"/>\n       <use x=\"63.623047\" xlink:href=\"#DejaVuSans-46\"/>\n       <use x=\"95.410156\" xlink:href=\"#DejaVuSans-48\"/>\n       <use x=\"159.033203\" xlink:href=\"#DejaVuSans-51\"/>\n       <use x=\"222.65625\" xlink:href=\"#DejaVuSans-53\"/>\n      </g>\n     </g>\n    </g>\n   </g>\n   <g id=\"matplotlib.axis_2\">\n    <g id=\"ytick_1\">\n     <g id=\"line2d_17\">\n      <path clip-path=\"url(#pb8404a6613)\" d=\"M 26.925 224.64 \nL 361.725 224.64 \n\" style=\"fill:none;stroke:#b0b0b0;stroke-linecap:square;stroke-width:0.8;\"/>\n     </g>\n     <g id=\"line2d_18\">\n      <defs>\n       <path d=\"M 0 0 \nL -3.5 0 \n\" id=\"m1b81665db8\" style=\"stroke:#000000;stroke-width:0.8;\"/>\n      </defs>\n      <g>\n       <use style=\"stroke:#000000;stroke-width:0.8;\" x=\"26.925\" xlink:href=\"#m1b81665db8\" y=\"224.64\"/>\n      </g>\n     </g>\n     <g id=\"text_9\">\n      <!-- 0 -->\n      <g transform=\"translate(13.5625 228.439219)scale(0.1 -0.1)\">\n       <use xlink:href=\"#DejaVuSans-48\"/>\n      </g>\n     </g>\n    </g>\n    <g id=\"ytick_2\">\n     <g id=\"line2d_19\">\n      <path clip-path=\"url(#pb8404a6613)\" d=\"M 26.925 184.815824 \nL 361.725 184.815824 \n\" style=\"fill:none;stroke:#b0b0b0;stroke-linecap:square;stroke-width:0.8;\"/>\n     </g>\n     <g id=\"line2d_20\">\n      <g>\n       <use style=\"stroke:#000000;stroke-width:0.8;\" x=\"26.925\" xlink:href=\"#m1b81665db8\" y=\"184.815824\"/>\n      </g>\n     </g>\n     <g id=\"text_10\">\n      <!-- 10 -->\n      <g transform=\"translate(7.2 188.615043)scale(0.1 -0.1)\">\n       <use xlink:href=\"#DejaVuSans-49\"/>\n       <use x=\"63.623047\" xlink:href=\"#DejaVuSans-48\"/>\n      </g>\n     </g>\n    </g>\n    <g id=\"ytick_3\">\n     <g id=\"line2d_21\">\n      <path clip-path=\"url(#pb8404a6613)\" d=\"M 26.925 144.991648 \nL 361.725 144.991648 \n\" style=\"fill:none;stroke:#b0b0b0;stroke-linecap:square;stroke-width:0.8;\"/>\n     </g>\n     <g id=\"line2d_22\">\n      <g>\n       <use style=\"stroke:#000000;stroke-width:0.8;\" x=\"26.925\" xlink:href=\"#m1b81665db8\" y=\"144.991648\"/>\n      </g>\n     </g>\n     <g id=\"text_11\">\n      <!-- 20 -->\n      <g transform=\"translate(7.2 148.790867)scale(0.1 -0.1)\">\n       <use xlink:href=\"#DejaVuSans-50\"/>\n       <use x=\"63.623047\" xlink:href=\"#DejaVuSans-48\"/>\n      </g>\n     </g>\n    </g>\n    <g id=\"ytick_4\">\n     <g id=\"line2d_23\">\n      <path clip-path=\"url(#pb8404a6613)\" d=\"M 26.925 105.167473 \nL 361.725 105.167473 \n\" style=\"fill:none;stroke:#b0b0b0;stroke-linecap:square;stroke-width:0.8;\"/>\n     </g>\n     <g id=\"line2d_24\">\n      <g>\n       <use style=\"stroke:#000000;stroke-width:0.8;\" x=\"26.925\" xlink:href=\"#m1b81665db8\" y=\"105.167473\"/>\n      </g>\n     </g>\n     <g id=\"text_12\">\n      <!-- 30 -->\n      <g transform=\"translate(7.2 108.966691)scale(0.1 -0.1)\">\n       <use xlink:href=\"#DejaVuSans-51\"/>\n       <use x=\"63.623047\" xlink:href=\"#DejaVuSans-48\"/>\n      </g>\n     </g>\n    </g>\n    <g id=\"ytick_5\">\n     <g id=\"line2d_25\">\n      <path clip-path=\"url(#pb8404a6613)\" d=\"M 26.925 65.343297 \nL 361.725 65.343297 \n\" style=\"fill:none;stroke:#b0b0b0;stroke-linecap:square;stroke-width:0.8;\"/>\n     </g>\n     <g id=\"line2d_26\">\n      <g>\n       <use style=\"stroke:#000000;stroke-width:0.8;\" x=\"26.925\" xlink:href=\"#m1b81665db8\" y=\"65.343297\"/>\n      </g>\n     </g>\n     <g id=\"text_13\">\n      <!-- 40 -->\n      <defs>\n       <path d=\"M 37.796875 64.3125 \nL 12.890625 25.390625 \nL 37.796875 25.390625 \nz\nM 35.203125 72.90625 \nL 47.609375 72.90625 \nL 47.609375 25.390625 \nL 58.015625 25.390625 \nL 58.015625 17.1875 \nL 47.609375 17.1875 \nL 47.609375 0 \nL 37.796875 0 \nL 37.796875 17.1875 \nL 4.890625 17.1875 \nL 4.890625 26.703125 \nz\n\" id=\"DejaVuSans-52\"/>\n      </defs>\n      <g transform=\"translate(7.2 69.142515)scale(0.1 -0.1)\">\n       <use xlink:href=\"#DejaVuSans-52\"/>\n       <use x=\"63.623047\" xlink:href=\"#DejaVuSans-48\"/>\n      </g>\n     </g>\n    </g>\n    <g id=\"ytick_6\">\n     <g id=\"line2d_27\">\n      <path clip-path=\"url(#pb8404a6613)\" d=\"M 26.925 25.519121 \nL 361.725 25.519121 \n\" style=\"fill:none;stroke:#b0b0b0;stroke-linecap:square;stroke-width:0.8;\"/>\n     </g>\n     <g id=\"line2d_28\">\n      <g>\n       <use style=\"stroke:#000000;stroke-width:0.8;\" x=\"26.925\" xlink:href=\"#m1b81665db8\" y=\"25.519121\"/>\n      </g>\n     </g>\n     <g id=\"text_14\">\n      <!-- 50 -->\n      <g transform=\"translate(7.2 29.31834)scale(0.1 -0.1)\">\n       <use xlink:href=\"#DejaVuSans-53\"/>\n       <use x=\"63.623047\" xlink:href=\"#DejaVuSans-48\"/>\n      </g>\n     </g>\n    </g>\n   </g>\n   <g id=\"patch_33\">\n    <path d=\"M 26.925 224.64 \nL 26.925 7.2 \n\" style=\"fill:none;stroke:#000000;stroke-linecap:square;stroke-linejoin:miter;stroke-width:0.8;\"/>\n   </g>\n   <g id=\"patch_34\">\n    <path d=\"M 361.725 224.64 \nL 361.725 7.2 \n\" style=\"fill:none;stroke:#000000;stroke-linecap:square;stroke-linejoin:miter;stroke-width:0.8;\"/>\n   </g>\n   <g id=\"patch_35\">\n    <path d=\"M 26.925 224.64 \nL 361.725 224.64 \n\" style=\"fill:none;stroke:#000000;stroke-linecap:square;stroke-linejoin:miter;stroke-width:0.8;\"/>\n   </g>\n   <g id=\"patch_36\">\n    <path d=\"M 26.925 7.2 \nL 361.725 7.2 \n\" style=\"fill:none;stroke:#000000;stroke-linecap:square;stroke-linejoin:miter;stroke-width:0.8;\"/>\n   </g>\n  </g>\n </g>\n <defs>\n  <clipPath id=\"pb8404a6613\">\n   <rect height=\"217.44\" width=\"334.8\" x=\"26.925\" y=\"7.2\"/>\n  </clipPath>\n </defs>\n</svg>\n",
            "application/pdf": "[encoded data removed]"
          },
          "metadata": {
            "needs_background": "light"
          }
        }
      ]
    }
  ],
  "metadata": {
    "colab": {
      "name": "dataset_builder.ipynb",
      "provenance": [],
      "collapsed_sections": [],
      "authorship_tag": "ABX9TyOb+ts1UgEVqqqN/RLtGJQb",
      "include_colab_link": true
    },
    "kernelspec": {
      "display_name": "Python 3",
      "name": "python3"
    },
    "language_info": {
      "name": "python"
    }
  },
  "nbformat": 4,
  "nbformat_minor": 0
}